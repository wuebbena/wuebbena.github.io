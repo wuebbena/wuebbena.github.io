{
 "cells": [
  {
   "cell_type": "code",
   "execution_count": 7,
   "metadata": {},
   "outputs": [
    {
     "name": "stdout",
     "output_type": "stream",
     "text": [
      "{'item': {'type': 'uri', 'value': 'http://www.wikidata.org/entity/Q871199'}, 'place': {'type': 'uri', 'value': 'http://www.wikidata.org/entity/Q3955'}, 'coord': {'datatype': 'http://www.opengis.net/ont/geosparql#wktLiteral', 'type': 'literal', 'value': 'Point(11.316666666 50.983333333)'}, 'itemLabel': {'xml:lang': 'en', 'type': 'literal', 'value': 'Georg Melchior Kraus'}, 'placeLabel': {'xml:lang': 'en', 'type': 'literal', 'value': 'Weimar'}}\n",
      "{'item': {'type': 'uri', 'value': 'http://www.wikidata.org/entity/Q1372279'}, 'place': {'type': 'uri', 'value': 'http://www.wikidata.org/entity/Q1794'}, 'coord': {'datatype': 'http://www.opengis.net/ont/geosparql#wktLiteral', 'type': 'literal', 'value': 'Point(8.679722222 50.113611111)'}, 'itemLabel': {'xml:lang': 'en', 'type': 'literal', 'value': 'Peter Burnitz'}, 'placeLabel': {'xml:lang': 'en', 'type': 'literal', 'value': 'Frankfurt'}}\n",
      "{'item': {'type': 'uri', 'value': 'http://www.wikidata.org/entity/Q1490542'}, 'place': {'type': 'uri', 'value': 'http://www.wikidata.org/entity/Q543627'}, 'coord': {'datatype': 'http://www.opengis.net/ont/geosparql#wktLiteral', 'type': 'literal', 'value': 'Point(6.583333333 49.5)'}, 'itemLabel': {'xml:lang': 'en', 'type': 'literal', 'value': 'Wilhelm Gattinger'}, 'placeLabel': {'xml:lang': 'en', 'type': 'literal', 'value': 'Mettlach'}}\n",
      "{'item': {'type': 'uri', 'value': 'http://www.wikidata.org/entity/Q1333675'}, 'place': {'type': 'uri', 'value': 'http://www.wikidata.org/entity/Q1826180'}, 'coord': {'datatype': 'http://www.opengis.net/ont/geosparql#wktLiteral', 'type': 'literal', 'value': 'Point(8.780277777 49.684861111)'}, 'itemLabel': {'xml:lang': 'en', 'type': 'literal', 'value': 'Else Luthmer'}, 'placeLabel': {'xml:lang': 'en', 'type': 'literal', 'value': 'Lindenfels'}}\n",
      "{'item': {'type': 'uri', 'value': 'http://www.wikidata.org/entity/Q1504613'}, 'place': {'type': 'uri', 'value': 'http://www.wikidata.org/entity/Q1794'}, 'coord': {'datatype': 'http://www.opengis.net/ont/geosparql#wktLiteral', 'type': 'literal', 'value': 'Point(8.679722222 50.113611111)'}, 'itemLabel': {'xml:lang': 'en', 'type': 'literal', 'value': 'Georg Heck'}, 'placeLabel': {'xml:lang': 'en', 'type': 'literal', 'value': 'Frankfurt'}}\n",
      "{'item': {'type': 'uri', 'value': 'http://www.wikidata.org/entity/Q1504768'}, 'place': {'type': 'uri', 'value': 'http://www.wikidata.org/entity/Q64'}, 'coord': {'datatype': 'http://www.opengis.net/ont/geosparql#wktLiteral', 'type': 'literal', 'value': 'Point(13.383333333 52.516666666)'}, 'itemLabel': {'xml:lang': 'en', 'type': 'literal', 'value': 'Georg Hom'}, 'placeLabel': {'xml:lang': 'en', 'type': 'literal', 'value': 'Berlin'}}\n",
      "{'item': {'type': 'uri', 'value': 'http://www.wikidata.org/entity/Q894156'}, 'place': {'type': 'uri', 'value': 'http://www.wikidata.org/entity/Q50894'}, 'coord': {'datatype': 'http://www.opengis.net/ont/geosparql#wktLiteral', 'type': 'literal', 'value': 'Point(7.8439 49.8092)'}, 'itemLabel': {'xml:lang': 'en', 'type': 'literal', 'value': 'Borris Goetz'}, 'placeLabel': {'xml:lang': 'en', 'type': 'literal', 'value': 'Bad Münster am Stein-Ebernburg'}}\n",
      "{'item': {'type': 'uri', 'value': 'http://www.wikidata.org/entity/Q1515681'}, 'place': {'type': 'uri', 'value': 'http://www.wikidata.org/entity/Q487522'}, 'coord': {'datatype': 'http://www.opengis.net/ont/geosparql#wktLiteral', 'type': 'literal', 'value': 'Point(16.316666666 48.304166666)'}, 'itemLabel': {'xml:lang': 'en', 'type': 'literal', 'value': 'Gertrud Schwarz-Helberger'}, 'placeLabel': {'xml:lang': 'en', 'type': 'literal', 'value': 'Klosterneuburg'}}\n",
      "{'item': {'type': 'uri', 'value': 'http://www.wikidata.org/entity/Q588537'}, 'place': {'type': 'uri', 'value': 'http://www.wikidata.org/entity/Q569634'}, 'coord': {'datatype': 'http://www.opengis.net/ont/geosparql#wktLiteral', 'type': 'literal', 'value': 'Point(8.508541666 50.179652777)'}, 'itemLabel': {'xml:lang': 'en', 'type': 'literal', 'value': 'Anton Burger'}, 'placeLabel': {'xml:lang': 'en', 'type': 'literal', 'value': 'Kronberg im Taunus'}}\n",
      "{'item': {'type': 'uri', 'value': 'http://www.wikidata.org/entity/Q764428'}, 'place': {'type': 'uri', 'value': 'http://www.wikidata.org/entity/Q1718'}, 'coord': {'datatype': 'http://www.opengis.net/ont/geosparql#wktLiteral', 'type': 'literal', 'value': 'Point(6.772380555 51.231144444)'}, 'itemLabel': {'xml:lang': 'en', 'type': 'literal', 'value': 'August Weber'}, 'placeLabel': {'xml:lang': 'en', 'type': 'literal', 'value': 'Düsseldorf'}}\n",
      "{'item': {'type': 'uri', 'value': 'http://www.wikidata.org/entity/Q319135'}, 'place': {'type': 'uri', 'value': 'http://www.wikidata.org/entity/Q1794'}, 'coord': {'datatype': 'http://www.opengis.net/ont/geosparql#wktLiteral', 'type': 'literal', 'value': 'Point(8.679722222 50.113611111)'}, 'itemLabel': {'xml:lang': 'en', 'type': 'literal', 'value': 'Philipp Uffenbach'}, 'placeLabel': {'xml:lang': 'en', 'type': 'literal', 'value': 'Frankfurt'}}\n",
      "{'item': {'type': 'uri', 'value': 'http://www.wikidata.org/entity/Q330400'}, 'place': {'type': 'uri', 'value': 'http://www.wikidata.org/entity/Q803'}, 'coord': {'datatype': 'http://www.opengis.net/ont/geosparql#wktLiteral', 'type': 'literal', 'value': 'Point(5.115555555 52.088888888)'}, 'itemLabel': {'xml:lang': 'en', 'type': 'literal', 'value': 'Abraham Mignon'}, 'placeLabel': {'xml:lang': 'en', 'type': 'literal', 'value': 'Utrecht'}}\n",
      "{'item': {'type': 'uri', 'value': 'http://www.wikidata.org/entity/Q1358251'}, 'place': {'type': 'uri', 'value': 'http://www.wikidata.org/entity/Q518061'}, 'coord': {'datatype': 'http://www.opengis.net/ont/geosparql#wktLiteral', 'type': 'literal', 'value': 'Point(11.3008 47.8244)'}, 'itemLabel': {'xml:lang': 'en', 'type': 'literal', 'value': 'Ernst Geitlinger'}, 'placeLabel': {'xml:lang': 'en', 'type': 'literal', 'value': 'Seeshaupt'}}\n",
      "{'item': {'type': 'uri', 'value': 'http://www.wikidata.org/entity/Q362992'}, 'place': {'type': 'uri', 'value': 'http://www.wikidata.org/entity/Q1794'}, 'coord': {'datatype': 'http://www.opengis.net/ont/geosparql#wktLiteral', 'type': 'literal', 'value': 'Point(8.679722222 50.113611111)'}, 'itemLabel': {'xml:lang': 'en', 'type': 'literal', 'value': 'Adolf Koch'}, 'placeLabel': {'xml:lang': 'en', 'type': 'literal', 'value': 'Frankfurt'}}\n",
      "{'item': {'type': 'uri', 'value': 'http://www.wikidata.org/entity/Q1408103'}, 'place': {'type': 'uri', 'value': 'http://www.wikidata.org/entity/Q1794'}, 'coord': {'datatype': 'http://www.opengis.net/ont/geosparql#wktLiteral', 'type': 'literal', 'value': 'Point(8.679722222 50.113611111)'}, 'itemLabel': {'xml:lang': 'en', 'type': 'literal', 'value': 'Ferry Ahrlé'}, 'placeLabel': {'xml:lang': 'en', 'type': 'literal', 'value': 'Frankfurt'}}\n",
      "{'item': {'type': 'uri', 'value': 'http://www.wikidata.org/entity/Q310285'}, 'place': {'type': 'uri', 'value': 'http://www.wikidata.org/entity/Q220'}, 'coord': {'datatype': 'http://www.opengis.net/ont/geosparql#wktLiteral', 'type': 'literal', 'value': 'Point(12.482777777 41.893055555)'}, 'itemLabel': {'xml:lang': 'en', 'type': 'literal', 'value': 'Adam Elsheimer'}, 'placeLabel': {'xml:lang': 'en', 'type': 'literal', 'value': 'Rome'}}\n",
      "{'item': {'type': 'uri', 'value': 'http://www.wikidata.org/entity/Q1257351'}, 'place': {'type': 'uri', 'value': 'http://www.wikidata.org/entity/Q1794'}, 'coord': {'datatype': 'http://www.opengis.net/ont/geosparql#wktLiteral', 'type': 'literal', 'value': 'Point(8.679722222 50.113611111)'}, 'itemLabel': {'xml:lang': 'en', 'type': 'literal', 'value': 'Ernst Schalck'}, 'placeLabel': {'xml:lang': 'en', 'type': 'literal', 'value': 'Frankfurt'}}\n",
      "{'item': {'type': 'uri', 'value': 'http://www.wikidata.org/entity/Q1405264'}, 'place': {'type': 'uri', 'value': 'http://www.wikidata.org/entity/Q1022'}, 'coord': {'datatype': 'http://www.opengis.net/ont/geosparql#wktLiteral', 'type': 'literal', 'value': 'Point(9.1775 48.776111111)'}, 'itemLabel': {'xml:lang': 'en', 'type': 'literal', 'value': 'Ferdinand Fellner'}, 'placeLabel': {'xml:lang': 'en', 'type': 'literal', 'value': 'Stuttgart'}}\n",
      "{'item': {'type': 'uri', 'value': 'http://www.wikidata.org/entity/Q1039813'}, 'place': {'type': 'uri', 'value': 'http://www.wikidata.org/entity/Q1794'}, 'coord': {'datatype': 'http://www.opengis.net/ont/geosparql#wktLiteral', 'type': 'literal', 'value': 'Point(8.679722222 50.113611111)'}, 'itemLabel': {'xml:lang': 'en', 'type': 'literal', 'value': 'Carl Morgenstern'}, 'placeLabel': {'xml:lang': 'en', 'type': 'literal', 'value': 'Frankfurt'}}\n",
      "{'item': {'type': 'uri', 'value': 'http://www.wikidata.org/entity/Q1330394'}, 'place': {'type': 'uri', 'value': 'http://www.wikidata.org/entity/Q1794'}, 'coord': {'datatype': 'http://www.opengis.net/ont/geosparql#wktLiteral', 'type': 'literal', 'value': 'Point(8.679722222 50.113611111)'}, 'itemLabel': {'xml:lang': 'en', 'type': 'literal', 'value': 'Elisabeth von Adlerflycht'}, 'placeLabel': {'xml:lang': 'en', 'type': 'literal', 'value': 'Frankfurt'}}\n",
      "{'item': {'type': 'uri', 'value': 'http://www.wikidata.org/entity/Q1372687'}, 'place': {'type': 'uri', 'value': 'http://www.wikidata.org/entity/Q1794'}, 'coord': {'datatype': 'http://www.opengis.net/ont/geosparql#wktLiteral', 'type': 'literal', 'value': 'Point(8.679722222 50.113611111)'}, 'itemLabel': {'xml:lang': 'en', 'type': 'literal', 'value': 'Eugen Klimsch'}, 'placeLabel': {'xml:lang': 'en', 'type': 'literal', 'value': 'Frankfurt'}}\n",
      "{'item': {'type': 'uri', 'value': 'http://www.wikidata.org/entity/Q1291347'}, 'place': {'type': 'uri', 'value': 'http://www.wikidata.org/entity/Q2795'}, 'coord': {'datatype': 'http://www.opengis.net/ont/geosparql#wktLiteral', 'type': 'literal', 'value': 'Point(12.916666666 50.833333333)'}, 'itemLabel': {'xml:lang': 'en', 'type': 'literal', 'value': 'Minni Herzing'}, 'placeLabel': {'xml:lang': 'en', 'type': 'literal', 'value': 'Chemnitz'}}\n",
      "{'item': {'type': 'uri', 'value': 'http://www.wikidata.org/entity/Q1041511'}, 'place': {'type': 'uri', 'value': 'http://www.wikidata.org/entity/Q1794'}, 'coord': {'datatype': 'http://www.opengis.net/ont/geosparql#wktLiteral', 'type': 'literal', 'value': 'Point(8.679722222 50.113611111)'}, 'itemLabel': {'xml:lang': 'en', 'type': 'literal', 'value': 'Carla Brill'}, 'placeLabel': {'xml:lang': 'en', 'type': 'literal', 'value': 'Frankfurt'}}\n",
      "{'item': {'type': 'uri', 'value': 'http://www.wikidata.org/entity/Q1626174'}, 'place': {'type': 'uri', 'value': 'http://www.wikidata.org/entity/Q1794'}, 'coord': {'datatype': 'http://www.opengis.net/ont/geosparql#wktLiteral', 'type': 'literal', 'value': 'Point(8.679722222 50.113611111)'}, 'itemLabel': {'xml:lang': 'en', 'type': 'literal', 'value': 'Marie Paquet-Steinhausen'}, 'placeLabel': {'xml:lang': 'en', 'type': 'literal', 'value': 'Frankfurt'}}\n",
      "{'item': {'type': 'uri', 'value': 'http://www.wikidata.org/entity/Q1410206'}, 'place': {'type': 'uri', 'value': 'http://www.wikidata.org/entity/Q1055'}, 'coord': {'datatype': 'http://www.opengis.net/ont/geosparql#wktLiteral', 'type': 'literal', 'value': 'Point(10.0 53.55)'}, 'itemLabel': {'xml:lang': 'en', 'type': 'literal', 'value': 'Hans Heyer'}, 'placeLabel': {'xml:lang': 'en', 'type': 'literal', 'value': 'Hamburg'}}\n",
      "{'item': {'type': 'uri', 'value': 'http://www.wikidata.org/entity/Q685495'}, 'place': {'type': 'uri', 'value': 'http://www.wikidata.org/entity/Q1741'}, 'coord': {'datatype': 'http://www.opengis.net/ont/geosparql#wktLiteral', 'type': 'literal', 'value': 'Point(16.373064 48.20833)'}, 'itemLabel': {'xml:lang': 'en', 'type': 'literal', 'value': 'Jakob Alt'}, 'placeLabel': {'xml:lang': 'en', 'type': 'literal', 'value': 'Vienna'}}\n",
      "{'item': {'type': 'uri', 'value': 'http://www.wikidata.org/entity/Q1579636'}, 'place': {'type': 'uri', 'value': 'http://www.wikidata.org/entity/Q1794'}, 'coord': {'datatype': 'http://www.opengis.net/ont/geosparql#wktLiteral', 'type': 'literal', 'value': 'Point(8.679722222 50.113611111)'}, 'itemLabel': {'xml:lang': 'en', 'type': 'literal', 'value': 'Hans Fyoll'}, 'placeLabel': {'xml:lang': 'en', 'type': 'literal', 'value': 'Frankfurt'}}\n",
      "{'item': {'type': 'uri', 'value': 'http://www.wikidata.org/entity/Q1600863'}, 'place': {'type': 'uri', 'value': 'http://www.wikidata.org/entity/Q1794'}, 'coord': {'datatype': 'http://www.opengis.net/ont/geosparql#wktLiteral', 'type': 'literal', 'value': 'Point(8.679722222 50.113611111)'}, 'itemLabel': {'xml:lang': 'en', 'type': 'literal', 'value': 'Heinz Saalig'}, 'placeLabel': {'xml:lang': 'en', 'type': 'literal', 'value': 'Frankfurt'}}\n",
      "{'item': {'type': 'uri', 'value': 'http://www.wikidata.org/entity/Q1468074'}, 'place': {'type': 'uri', 'value': 'http://www.wikidata.org/entity/Q1711'}, 'coord': {'datatype': 'http://www.opengis.net/ont/geosparql#wktLiteral', 'type': 'literal', 'value': 'Point(13.066666666 52.4)'}, 'itemLabel': {'xml:lang': 'en', 'type': 'literal', 'value': 'Fritz Rumpf'}, 'placeLabel': {'xml:lang': 'en', 'type': 'literal', 'value': 'Potsdam'}}\n",
      "{'item': {'type': 'uri', 'value': 'http://www.wikidata.org/entity/Q465304'}, 'place': {'type': 'uri', 'value': 'http://www.wikidata.org/entity/Q1794'}, 'coord': {'datatype': 'http://www.opengis.net/ont/geosparql#wktLiteral', 'type': 'literal', 'value': 'Point(8.679722222 50.113611111)'}, 'itemLabel': {'xml:lang': 'en', 'type': 'literal', 'value': 'Otto Scholderer'}, 'placeLabel': {'xml:lang': 'en', 'type': 'literal', 'value': 'Frankfurt'}}\n",
      "{'item': {'type': 'uri', 'value': 'http://www.wikidata.org/entity/Q1352086'}, 'place': {'type': 'uri', 'value': 'http://www.wikidata.org/entity/Q3942'}, 'coord': {'datatype': 'http://www.opengis.net/ont/geosparql#wktLiteral', 'type': 'literal', 'value': 'Point(9.15 49.966666666)'}, 'itemLabel': {'xml:lang': 'en', 'type': 'literal', 'value': 'Erich Dittmann'}, 'placeLabel': {'xml:lang': 'en', 'type': 'literal', 'value': 'Aschaffenburg'}}\n",
      "{'item': {'type': 'uri', 'value': 'http://www.wikidata.org/entity/Q1575665'}, 'place': {'type': 'uri', 'value': 'http://www.wikidata.org/entity/Q16105'}, 'coord': {'datatype': 'http://www.opengis.net/ont/geosparql#wktLiteral', 'type': 'literal', 'value': 'Point(8.75 50.3667)'}, 'itemLabel': {'xml:lang': 'en', 'type': 'literal', 'value': 'Hanna Bekker vom Rath'}, 'placeLabel': {'xml:lang': 'en', 'type': 'literal', 'value': 'Bad Nauheim'}}\n",
      "{'item': {'type': 'uri', 'value': 'http://www.wikidata.org/entity/Q1303347'}, 'place': {'type': 'uri', 'value': 'http://www.wikidata.org/entity/Q569634'}, 'coord': {'datatype': 'http://www.opengis.net/ont/geosparql#wktLiteral', 'type': 'literal', 'value': 'Point(8.508541666 50.179652777)'}, 'itemLabel': {'xml:lang': 'en', 'type': 'literal', 'value': 'Heinrich Winter'}, 'placeLabel': {'xml:lang': 'en', 'type': 'literal', 'value': 'Kronberg im Taunus'}}\n",
      "{'item': {'type': 'uri', 'value': 'http://www.wikidata.org/entity/Q470655'}, 'place': {'type': 'uri', 'value': 'http://www.wikidata.org/entity/Q220'}, 'coord': {'datatype': 'http://www.opengis.net/ont/geosparql#wktLiteral', 'type': 'literal', 'value': 'Point(12.482777777 41.893055555)'}, 'itemLabel': {'xml:lang': 'en', 'type': 'literal', 'value': 'Philipp Peter Roos'}, 'placeLabel': {'xml:lang': 'en', 'type': 'literal', 'value': 'Rome'}}\n",
      "{'item': {'type': 'uri', 'value': 'http://www.wikidata.org/entity/Q1367260'}, 'place': {'type': 'uri', 'value': 'http://www.wikidata.org/entity/Q1794'}, 'coord': {'datatype': 'http://www.opengis.net/ont/geosparql#wktLiteral', 'type': 'literal', 'value': 'Point(8.679722222 50.113611111)'}, 'itemLabel': {'xml:lang': 'en', 'type': 'literal', 'value': 'Wilhelm Runze'}, 'placeLabel': {'xml:lang': 'en', 'type': 'literal', 'value': 'Frankfurt'}}\n",
      "{'item': {'type': 'uri', 'value': 'http://www.wikidata.org/entity/Q705163'}, 'place': {'type': 'uri', 'value': 'http://www.wikidata.org/entity/Q191115'}, 'coord': {'datatype': 'http://www.opengis.net/ont/geosparql#wktLiteral', 'type': 'literal', 'value': 'Point(12.666666666 41.733333333)'}, 'itemLabel': {'xml:lang': 'en', 'type': 'literal', 'value': 'Franz Pforr'}, 'placeLabel': {'xml:lang': 'en', 'type': 'literal', 'value': 'Albano Laziale'}}\n",
      "{'item': {'type': 'uri', 'value': 'http://www.wikidata.org/entity/Q1040802'}, 'place': {'type': 'uri', 'value': 'http://www.wikidata.org/entity/Q1794'}, 'coord': {'datatype': 'http://www.opengis.net/ont/geosparql#wktLiteral', 'type': 'literal', 'value': 'Point(8.679722222 50.113611111)'}, 'itemLabel': {'xml:lang': 'en', 'type': 'literal', 'value': 'Carl Theodor Reiffenstein'}, 'placeLabel': {'xml:lang': 'en', 'type': 'literal', 'value': 'Frankfurt'}}\n",
      "{'item': {'type': 'uri', 'value': 'http://www.wikidata.org/entity/Q1254891'}, 'place': {'type': 'uri', 'value': 'http://www.wikidata.org/entity/Q39785'}, 'coord': {'datatype': 'http://www.opengis.net/ont/geosparql#wktLiteral', 'type': 'literal', 'value': 'Point(8.499722222 50.142430555)'}, 'itemLabel': {'xml:lang': 'en', 'type': 'literal', 'value': 'Rudolf Schucht'}, 'placeLabel': {'xml:lang': 'en', 'type': 'literal', 'value': 'Bad Soden'}}\n",
      "{'item': {'type': 'uri', 'value': 'http://www.wikidata.org/entity/Q629856'}, 'place': {'type': 'uri', 'value': 'http://www.wikidata.org/entity/Q727'}, 'coord': {'datatype': 'http://www.opengis.net/ont/geosparql#wktLiteral', 'type': 'literal', 'value': 'Point(4.9 52.383333333)'}, 'itemLabel': {'xml:lang': 'en', 'type': 'literal', 'value': 'Johannes Lingelbach'}, 'placeLabel': {'xml:lang': 'en', 'type': 'literal', 'value': 'Amsterdam'}}\n",
      "{'item': {'type': 'uri', 'value': 'http://www.wikidata.org/entity/Q827689'}, 'place': {'type': 'uri', 'value': 'http://www.wikidata.org/entity/Q1794'}, 'coord': {'datatype': 'http://www.opengis.net/ont/geosparql#wktLiteral', 'type': 'literal', 'value': 'Point(8.679722222 50.113611111)'}, 'itemLabel': {'xml:lang': 'en', 'type': 'literal', 'value': 'Bertha Bagge'}, 'placeLabel': {'xml:lang': 'en', 'type': 'literal', 'value': 'Frankfurt'}}\n",
      "{'item': {'type': 'uri', 'value': 'http://www.wikidata.org/entity/Q878576'}, 'place': {'type': 'uri', 'value': 'http://www.wikidata.org/entity/Q1726'}, 'coord': {'datatype': 'http://www.opengis.net/ont/geosparql#wktLiteral', 'type': 'literal', 'value': 'Point(11.5755 48.137194444)'}, 'itemLabel': {'xml:lang': 'en', 'type': 'literal', 'value': 'Victor Müller'}, 'placeLabel': {'xml:lang': 'en', 'type': 'literal', 'value': 'Munich'}}\n",
      "{'item': {'type': 'uri', 'value': 'http://www.wikidata.org/entity/Q827910'}, 'place': {'type': 'uri', 'value': 'http://www.wikidata.org/entity/Q1794'}, 'coord': {'datatype': 'http://www.opengis.net/ont/geosparql#wktLiteral', 'type': 'literal', 'value': 'Point(8.679722222 50.113611111)'}, 'itemLabel': {'xml:lang': 'en', 'type': 'literal', 'value': 'Paul Klimsch'}, 'placeLabel': {'xml:lang': 'en', 'type': 'literal', 'value': 'Frankfurt'}}\n",
      "{'item': {'type': 'uri', 'value': 'http://www.wikidata.org/entity/Q1336767'}, 'place': {'type': 'uri', 'value': 'http://www.wikidata.org/entity/Q569634'}, 'coord': {'datatype': 'http://www.opengis.net/ont/geosparql#wktLiteral', 'type': 'literal', 'value': 'Point(8.508541666 50.179652777)'}, 'itemLabel': {'xml:lang': 'en', 'type': 'literal', 'value': 'Emil Rumpf'}, 'placeLabel': {'xml:lang': 'en', 'type': 'literal', 'value': 'Kronberg im Taunus'}}\n",
      "{'item': {'type': 'uri', 'value': 'http://www.wikidata.org/entity/Q364184'}, 'place': {'type': 'uri', 'value': 'http://www.wikidata.org/entity/Q569634'}, 'coord': {'datatype': 'http://www.opengis.net/ont/geosparql#wktLiteral', 'type': 'literal', 'value': 'Point(8.508541666 50.179652777)'}, 'itemLabel': {'xml:lang': 'en', 'type': 'literal', 'value': 'Adolf Schreyer'}, 'placeLabel': {'xml:lang': 'en', 'type': 'literal', 'value': 'Kronberg im Taunus'}}\n",
      "{'item': {'type': 'uri', 'value': 'http://www.wikidata.org/entity/Q823995'}, 'place': {'type': 'uri', 'value': 'http://www.wikidata.org/entity/Q365'}, 'coord': {'datatype': 'http://www.opengis.net/ont/geosparql#wktLiteral', 'type': 'literal', 'value': 'Point(6.957777777 50.942222222)'}, 'itemLabel': {'xml:lang': 'en', 'type': 'literal', 'value': 'Bernd Pfarr'}, 'placeLabel': {'xml:lang': 'en', 'type': 'literal', 'value': 'Cologne'}}\n",
      "{'item': {'type': 'uri', 'value': 'http://www.wikidata.org/entity/Q1286315'}, 'place': {'type': 'uri', 'value': 'http://www.wikidata.org/entity/Q68315'}, 'coord': {'datatype': 'http://www.opengis.net/ont/geosparql#wktLiteral', 'type': 'literal', 'value': 'Point(9.531111111 47.441111111)'}, 'itemLabel': {'xml:lang': 'en', 'type': 'literal', 'value': 'Edmund Georg Pielmann'}, 'placeLabel': {'xml:lang': 'en', 'type': 'literal', 'value': 'Heiden'}}\n",
      "{'item': {'type': 'uri', 'value': 'http://www.wikidata.org/entity/Q551624'}, 'place': {'type': 'uri', 'value': 'http://www.wikidata.org/entity/Q2090'}, 'coord': {'datatype': 'http://www.opengis.net/ont/geosparql#wktLiteral', 'type': 'literal', 'value': 'Point(11.077777777 49.452777777)'}, 'itemLabel': {'xml:lang': 'en', 'type': 'literal', 'value': 'Joachim von Sandrart'}, 'placeLabel': {'xml:lang': 'en', 'type': 'literal', 'value': 'Nuremberg'}}\n",
      "{'item': {'type': 'uri', 'value': 'http://www.wikidata.org/entity/Q1449911'}, 'place': {'type': 'uri', 'value': 'http://www.wikidata.org/entity/Q1794'}, 'coord': {'datatype': 'http://www.opengis.net/ont/geosparql#wktLiteral', 'type': 'literal', 'value': 'Point(8.679722222 50.113611111)'}, 'itemLabel': {'xml:lang': 'en', 'type': 'literal', 'value': 'Johann Friedrich Morgenstern'}, 'placeLabel': {'xml:lang': 'en', 'type': 'literal', 'value': 'Frankfurt'}}\n",
      "{'item': {'type': 'uri', 'value': 'http://www.wikidata.org/entity/Q1404462'}, 'place': {'type': 'uri', 'value': 'http://www.wikidata.org/entity/Q2090'}, 'coord': {'datatype': 'http://www.opengis.net/ont/geosparql#wktLiteral', 'type': 'literal', 'value': 'Point(11.077777777 49.452777777)'}, 'itemLabel': {'xml:lang': 'en', 'type': 'literal', 'value': 'Georg Keller'}, 'placeLabel': {'xml:lang': 'en', 'type': 'literal', 'value': 'Nuremberg'}}\n",
      "{'item': {'type': 'uri', 'value': 'http://www.wikidata.org/entity/Q702272'}, 'place': {'type': 'uri', 'value': 'http://www.wikidata.org/entity/Q84'}, 'coord': {'datatype': 'http://www.opengis.net/ont/geosparql#wktLiteral', 'type': 'literal', 'value': 'Point(-0.1275 51.507222222)'}, 'itemLabel': {'xml:lang': 'en', 'type': 'literal', 'value': 'Johann Zoffany'}, 'placeLabel': {'xml:lang': 'en', 'type': 'literal', 'value': 'London'}}\n",
      "{'item': {'type': 'uri', 'value': 'http://www.wikidata.org/entity/Q1120517'}, 'place': {'type': 'uri', 'value': 'http://www.wikidata.org/entity/Q22873'}, 'coord': {'datatype': 'http://www.opengis.net/ont/geosparql#wktLiteral', 'type': 'literal', 'value': 'Point(8.983333333 49.466666666)'}, 'itemLabel': {'xml:lang': 'en', 'type': 'literal', 'value': 'Helmut Caspary'}, 'placeLabel': {'xml:lang': 'en', 'type': 'literal', 'value': 'Eberbach'}}\n",
      "{'item': {'type': 'uri', 'value': 'http://www.wikidata.org/entity/Q1446950'}, 'place': {'type': 'uri', 'value': 'http://www.wikidata.org/entity/Q1210'}, 'coord': {'datatype': 'http://www.opengis.net/ont/geosparql#wktLiteral', 'type': 'literal', 'value': 'Point(9.95 45.65)'}, 'itemLabel': {'xml:lang': 'en', 'type': 'literal', 'value': 'Francesco Codino'}, 'placeLabel': {'xml:lang': 'en', 'type': 'literal', 'value': 'Lombardy'}}\n",
      "{'item': {'type': 'uri', 'value': 'http://www.wikidata.org/entity/Q1287311'}, 'place': {'type': 'uri', 'value': 'http://www.wikidata.org/entity/Q64044'}, 'coord': {'datatype': 'http://www.opengis.net/ont/geosparql#wktLiteral', 'type': 'literal', 'value': 'Point(9.023809 46.195555)'}, 'itemLabel': {'xml:lang': 'en', 'type': 'literal', 'value': 'Léo Maillet'}, 'placeLabel': {'xml:lang': 'en', 'type': 'literal', 'value': 'Bellinzona'}}\n",
      "{'item': {'type': 'uri', 'value': 'http://www.wikidata.org/entity/Q361142'}, 'place': {'type': 'uri', 'value': 'http://www.wikidata.org/entity/Q1726'}, 'coord': {'datatype': 'http://www.opengis.net/ont/geosparql#wktLiteral', 'type': 'literal', 'value': 'Point(11.5755 48.137194444)'}, 'itemLabel': {'xml:lang': 'en', 'type': 'literal', 'value': 'Adolf Chelius'}, 'placeLabel': {'xml:lang': 'en', 'type': 'literal', 'value': 'Munich'}}\n",
      "{'item': {'type': 'uri', 'value': 'http://www.wikidata.org/entity/Q28663084'}, 'place': {'type': 'uri', 'value': 'http://www.wikidata.org/entity/Q1794'}, 'coord': {'datatype': 'http://www.opengis.net/ont/geosparql#wktLiteral', 'type': 'literal', 'value': 'Point(8.679722222 50.113611111)'}, 'itemLabel': {'xml:lang': 'en', 'type': 'literal', 'value': 'Adolf Hoeffler'}, 'placeLabel': {'xml:lang': 'en', 'type': 'literal', 'value': 'Frankfurt'}}\n",
      "{'item': {'type': 'uri', 'value': 'http://www.wikidata.org/entity/Q43261219'}, 'place': {'type': 'uri', 'value': 'http://www.wikidata.org/entity/Q748513'}, 'coord': {'datatype': 'http://www.opengis.net/ont/geosparql#wktLiteral', 'type': 'literal', 'value': 'Point(26.225 60.4569)'}, 'itemLabel': {'type': 'literal', 'value': 'Q43261219'}, 'placeLabel': {'xml:lang': 'en', 'type': 'literal', 'value': 'Loviisa'}}\n",
      "{'item': {'type': 'uri', 'value': 'http://www.wikidata.org/entity/Q52154766'}, 'place': {'type': 'uri', 'value': 'http://www.wikidata.org/entity/Q1794'}, 'coord': {'datatype': 'http://www.opengis.net/ont/geosparql#wktLiteral', 'type': 'literal', 'value': 'Point(8.679722222 50.113611111)'}, 'itemLabel': {'xml:lang': 'en', 'type': 'literal', 'value': 'Johann Balthasar Bauer'}, 'placeLabel': {'xml:lang': 'en', 'type': 'literal', 'value': 'Frankfurt'}}\n",
      "{'item': {'type': 'uri', 'value': 'http://www.wikidata.org/entity/Q26899308'}, 'place': {'type': 'uri', 'value': 'http://www.wikidata.org/entity/Q1794'}, 'coord': {'datatype': 'http://www.opengis.net/ont/geosparql#wktLiteral', 'type': 'literal', 'value': 'Point(8.679722222 50.113611111)'}, 'itemLabel': {'xml:lang': 'en', 'type': 'literal', 'value': 'Uwe Groß'}, 'placeLabel': {'xml:lang': 'en', 'type': 'literal', 'value': 'Frankfurt'}}\n",
      "{'item': {'type': 'uri', 'value': 'http://www.wikidata.org/entity/Q16065823'}, 'place': {'type': 'uri', 'value': 'http://www.wikidata.org/entity/Q1449'}, 'coord': {'datatype': 'http://www.opengis.net/ont/geosparql#wktLiteral', 'type': 'literal', 'value': 'Point(8.933983333 44.407186111)'}, 'itemLabel': {'xml:lang': 'en', 'type': 'literal', 'value': 'Jean-Christophe Heyland'}, 'placeLabel': {'xml:lang': 'en', 'type': 'literal', 'value': 'Genoa'}}\n",
      "{'item': {'type': 'uri', 'value': 'http://www.wikidata.org/entity/Q17310178'}, 'place': {'type': 'uri', 'value': 'http://www.wikidata.org/entity/Q4072'}, 'coord': {'datatype': 'http://www.opengis.net/ont/geosparql#wktLiteral', 'type': 'literal', 'value': 'Point(9.652777777 48.7025)'}, 'itemLabel': {'xml:lang': 'en', 'type': 'literal', 'value': 'Albrecht Appelhans'}, 'placeLabel': {'xml:lang': 'en', 'type': 'literal', 'value': 'Göppingen'}}\n",
      "{'item': {'type': 'uri', 'value': 'http://www.wikidata.org/entity/Q21454026'}, 'place': {'type': 'uri', 'value': 'http://www.wikidata.org/entity/Q1794'}, 'coord': {'datatype': 'http://www.opengis.net/ont/geosparql#wktLiteral', 'type': 'literal', 'value': 'Point(8.679722222 50.113611111)'}, 'itemLabel': {'xml:lang': 'en', 'type': 'literal', 'value': 'Hermann Junker'}, 'placeLabel': {'xml:lang': 'en', 'type': 'literal', 'value': 'Frankfurt'}}\n",
      "{'item': {'type': 'uri', 'value': 'http://www.wikidata.org/entity/Q51884142'}, 'place': {'type': 'uri', 'value': 'http://www.wikidata.org/entity/Q1040'}, 'coord': {'datatype': 'http://www.opengis.net/ont/geosparql#wktLiteral', 'type': 'literal', 'value': 'Point(8.4 49.016666666)'}, 'itemLabel': {'xml:lang': 'en', 'type': 'literal', 'value': 'Anton Engelhard'}, 'placeLabel': {'xml:lang': 'en', 'type': 'literal', 'value': 'Karlsruhe'}}\n",
      "{'item': {'type': 'uri', 'value': 'http://www.wikidata.org/entity/Q30140350'}, 'place': {'type': 'uri', 'value': 'http://www.wikidata.org/entity/Q1449'}, 'coord': {'datatype': 'http://www.opengis.net/ont/geosparql#wktLiteral', 'type': 'literal', 'value': 'Point(8.933983333 44.407186111)'}, 'itemLabel': {'xml:lang': 'en', 'type': 'literal', 'value': 'Heinrich Johann Karl Gesemann'}, 'placeLabel': {'xml:lang': 'en', 'type': 'literal', 'value': 'Genoa'}}\n",
      "{'item': {'type': 'uri', 'value': 'http://www.wikidata.org/entity/Q48038094'}, 'place': {'type': 'uri', 'value': 'http://www.wikidata.org/entity/Q78'}, 'coord': {'datatype': 'http://www.opengis.net/ont/geosparql#wktLiteral', 'type': 'literal', 'value': 'Point(7.590555555 47.560555555)'}, 'itemLabel': {'xml:lang': 'en', 'type': 'literal', 'value': 'Friedrich Hermann Hartmann'}, 'placeLabel': {'xml:lang': 'en', 'type': 'literal', 'value': 'Basel'}}\n",
      "{'item': {'type': 'uri', 'value': 'http://www.wikidata.org/entity/Q15439526'}, 'place': {'type': 'uri', 'value': 'http://www.wikidata.org/entity/Q1794'}, 'coord': {'datatype': 'http://www.opengis.net/ont/geosparql#wktLiteral', 'type': 'literal', 'value': 'Point(8.679722222 50.113611111)'}, 'itemLabel': {'xml:lang': 'en', 'type': 'literal', 'value': 'Johann Christian Heerdt'}, 'placeLabel': {'xml:lang': 'en', 'type': 'literal', 'value': 'Frankfurt'}}\n",
      "{'item': {'type': 'uri', 'value': 'http://www.wikidata.org/entity/Q7811603'}, 'place': {'type': 'uri', 'value': 'http://www.wikidata.org/entity/Q1726'}, 'coord': {'datatype': 'http://www.opengis.net/ont/geosparql#wktLiteral', 'type': 'literal', 'value': 'Point(11.5755 48.137194444)'}, 'itemLabel': {'xml:lang': 'en', 'type': 'literal', 'value': 'Tobias Andreae'}, 'placeLabel': {'xml:lang': 'en', 'type': 'literal', 'value': 'Munich'}}\n",
      "{'item': {'type': 'uri', 'value': 'http://www.wikidata.org/entity/Q56883643'}, 'place': {'type': 'uri', 'value': 'http://www.wikidata.org/entity/Q64'}, 'coord': {'datatype': 'http://www.opengis.net/ont/geosparql#wktLiteral', 'type': 'literal', 'value': 'Point(13.383333333 52.516666666)'}, 'itemLabel': {'xml:lang': 'en', 'type': 'literal', 'value': 'Karl Mahr'}, 'placeLabel': {'xml:lang': 'en', 'type': 'literal', 'value': 'Berlin'}}\n",
      "{'item': {'type': 'uri', 'value': 'http://www.wikidata.org/entity/Q44001585'}, 'place': {'type': 'uri', 'value': 'http://www.wikidata.org/entity/Q2865'}, 'coord': {'datatype': 'http://www.opengis.net/ont/geosparql#wktLiteral', 'type': 'literal', 'value': 'Point(9.497916666 51.315777777)'}, 'itemLabel': {'xml:lang': 'en', 'type': 'literal', 'value': 'Christian Beyer'}, 'placeLabel': {'xml:lang': 'en', 'type': 'literal', 'value': 'Kassel'}}\n",
      "{'item': {'type': 'uri', 'value': 'http://www.wikidata.org/entity/Q5879'}, 'place': {'type': 'uri', 'value': 'http://www.wikidata.org/entity/Q3955'}, 'coord': {'datatype': 'http://www.opengis.net/ont/geosparql#wktLiteral', 'type': 'literal', 'value': 'Point(11.316666666 50.983333333)'}, 'itemLabel': {'xml:lang': 'en', 'type': 'literal', 'value': 'Johann Wolfgang von Goethe'}, 'placeLabel': {'xml:lang': 'en', 'type': 'literal', 'value': 'Weimar'}}\n",
      "{'item': {'type': 'uri', 'value': 'http://www.wikidata.org/entity/Q19563739'}, 'place': {'type': 'uri', 'value': 'http://www.wikidata.org/entity/Q1731'}, 'coord': {'datatype': 'http://www.opengis.net/ont/geosparql#wktLiteral', 'type': 'literal', 'value': 'Point(13.738361111 51.049258333)'}, 'itemLabel': {'xml:lang': 'en', 'type': 'literal', 'value': 'Carl Hoff'}, 'placeLabel': {'xml:lang': 'en', 'type': 'literal', 'value': 'Dresden'}}\n",
      "{'item': {'type': 'uri', 'value': 'http://www.wikidata.org/entity/Q44281350'}, 'place': {'type': 'uri', 'value': 'http://www.wikidata.org/entity/Q1794'}, 'coord': {'datatype': 'http://www.opengis.net/ont/geosparql#wktLiteral', 'type': 'literal', 'value': 'Point(8.679722222 50.113611111)'}, 'itemLabel': {'xml:lang': 'en', 'type': 'literal', 'value': 'Angilbert Göbel'}, 'placeLabel': {'xml:lang': 'en', 'type': 'literal', 'value': 'Frankfurt'}}\n",
      "{'item': {'type': 'uri', 'value': 'http://www.wikidata.org/entity/Q55898387'}, 'place': {'type': 'uri', 'value': 'http://www.wikidata.org/entity/Q1794'}, 'coord': {'datatype': 'http://www.opengis.net/ont/geosparql#wktLiteral', 'type': 'literal', 'value': 'Point(8.679722222 50.113611111)'}, 'itemLabel': {'xml:lang': 'en', 'type': 'literal', 'value': 'Gerhard Malß'}, 'placeLabel': {'xml:lang': 'en', 'type': 'literal', 'value': 'Frankfurt'}}\n",
      "{'item': {'type': 'uri', 'value': 'http://www.wikidata.org/entity/Q55846575'}, 'place': {'type': 'uri', 'value': 'http://www.wikidata.org/entity/Q1794'}, 'coord': {'datatype': 'http://www.opengis.net/ont/geosparql#wktLiteral', 'type': 'literal', 'value': 'Point(8.679722222 50.113611111)'}, 'itemLabel': {'xml:lang': 'en', 'type': 'literal', 'value': 'Philippine Schütz'}, 'placeLabel': {'xml:lang': 'en', 'type': 'literal', 'value': 'Frankfurt'}}\n",
      "{'item': {'type': 'uri', 'value': 'http://www.wikidata.org/entity/Q2573923'}, 'place': {'type': 'uri', 'value': 'http://www.wikidata.org/entity/Q131605'}, 'coord': {'datatype': 'http://www.opengis.net/ont/geosparql#wktLiteral', 'type': 'literal', 'value': 'Point(11.163888888 46.668888888)'}, 'itemLabel': {'xml:lang': 'en', 'type': 'literal', 'value': 'Wilhelm Lefèbre'}, 'placeLabel': {'xml:lang': 'en', 'type': 'literal', 'value': 'Merano'}}\n",
      "{'item': {'type': 'uri', 'value': 'http://www.wikidata.org/entity/Q21095023'}, 'place': {'type': 'uri', 'value': 'http://www.wikidata.org/entity/Q60'}, 'coord': {'datatype': 'http://www.opengis.net/ont/geosparql#wktLiteral', 'type': 'literal', 'value': 'Point(-73.94 40.67)'}, 'itemLabel': {'xml:lang': 'en', 'type': 'literal', 'value': 'Albert Urban'}, 'placeLabel': {'xml:lang': 'en', 'type': 'literal', 'value': 'New York City'}}\n",
      "{'item': {'type': 'uri', 'value': 'http://www.wikidata.org/entity/Q1794045'}, 'place': {'type': 'uri', 'value': 'http://www.wikidata.org/entity/Q2337'}, 'coord': {'datatype': 'http://www.opengis.net/ont/geosparql#wktLiteral', 'type': 'literal', 'value': 'Point(32.045277777 54.782777777)'}, 'itemLabel': {'xml:lang': 'en', 'type': 'literal', 'value': 'Kurt Scheele'}, 'placeLabel': {'xml:lang': 'en', 'type': 'literal', 'value': 'Smolensk'}}\n",
      "{'item': {'type': 'uri', 'value': 'http://www.wikidata.org/entity/Q52150435'}, 'place': {'type': 'uri', 'value': 'http://www.wikidata.org/entity/Q625651'}, 'coord': {'datatype': 'http://www.opengis.net/ont/geosparql#wktLiteral', 'type': 'literal', 'value': 'Point(8.644166666 48.786666666)'}, 'itemLabel': {'xml:lang': 'en', 'type': 'literal', 'value': 'Ludwig Raders'}, 'placeLabel': {'xml:lang': 'en', 'type': 'literal', 'value': 'Schömberg'}}\n",
      "{'item': {'type': 'uri', 'value': 'http://www.wikidata.org/entity/Q21453279'}, 'place': {'type': 'uri', 'value': 'http://www.wikidata.org/entity/Q48958'}, 'coord': {'datatype': 'http://www.opengis.net/ont/geosparql#wktLiteral', 'type': 'literal', 'value': 'Point(2.2675 48.887222222)'}, 'itemLabel': {'xml:lang': 'en', 'type': 'literal', 'value': 'Henry Guillaume Schlesinger'}, 'placeLabel': {'xml:lang': 'en', 'type': 'literal', 'value': 'Neuilly-sur-Seine'}}\n",
      "{'item': {'type': 'uri', 'value': 'http://www.wikidata.org/entity/Q2642104'}, 'place': {'type': 'uri', 'value': 'http://www.wikidata.org/entity/Q1731'}, 'coord': {'datatype': 'http://www.opengis.net/ont/geosparql#wktLiteral', 'type': 'literal', 'value': 'Point(13.738361111 51.049258333)'}, 'itemLabel': {'xml:lang': 'en', 'type': 'literal', 'value': 'Alexander Flamant'}, 'placeLabel': {'xml:lang': 'en', 'type': 'literal', 'value': 'Dresden'}}\n",
      "{'item': {'type': 'uri', 'value': 'http://www.wikidata.org/entity/Q52442531'}, 'place': {'type': 'uri', 'value': 'http://www.wikidata.org/entity/Q1794'}, 'coord': {'datatype': 'http://www.opengis.net/ont/geosparql#wktLiteral', 'type': 'literal', 'value': 'Point(8.679722222 50.113611111)'}, 'itemLabel': {'xml:lang': 'en', 'type': 'literal', 'value': 'Christian Becker'}, 'placeLabel': {'xml:lang': 'en', 'type': 'literal', 'value': 'Frankfurt'}}\n",
      "{'item': {'type': 'uri', 'value': 'http://www.wikidata.org/entity/Q18534257'}, 'place': {'type': 'uri', 'value': 'http://www.wikidata.org/entity/Q84'}, 'coord': {'datatype': 'http://www.opengis.net/ont/geosparql#wktLiteral', 'type': 'literal', 'value': 'Point(-0.1275 51.507222222)'}, 'itemLabel': {'xml:lang': 'en', 'type': 'literal', 'value': 'Erna Auerbach'}, 'placeLabel': {'xml:lang': 'en', 'type': 'literal', 'value': 'London'}}\n",
      "{'item': {'type': 'uri', 'value': 'http://www.wikidata.org/entity/Q3808914'}, 'place': {'type': 'uri', 'value': 'http://www.wikidata.org/entity/Q730'}, 'coord': {'datatype': 'http://www.opengis.net/ont/geosparql#wktLiteral', 'type': 'literal', 'value': 'Point(-56.0 4.0)'}, 'itemLabel': {'xml:lang': 'en', 'type': 'literal', 'value': 'Johanna Helena Herolt'}, 'placeLabel': {'xml:lang': 'en', 'type': 'literal', 'value': 'Suriname'}}\n",
      "{'item': {'type': 'uri', 'value': 'http://www.wikidata.org/entity/Q52155890'}, 'place': {'type': 'uri', 'value': 'http://www.wikidata.org/entity/Q1726'}, 'coord': {'datatype': 'http://www.opengis.net/ont/geosparql#wktLiteral', 'type': 'literal', 'value': 'Point(11.5755 48.137194444)'}, 'itemLabel': {'xml:lang': 'en', 'type': 'literal', 'value': 'Gottfried Von Hoven'}, 'placeLabel': {'xml:lang': 'en', 'type': 'literal', 'value': 'Munich'}}\n",
      "{'item': {'type': 'uri', 'value': 'http://www.wikidata.org/entity/Q26722645'}, 'place': {'type': 'uri', 'value': 'http://www.wikidata.org/entity/Q1794'}, 'coord': {'datatype': 'http://www.opengis.net/ont/geosparql#wktLiteral', 'type': 'literal', 'value': 'Point(8.679722222 50.113611111)'}, 'itemLabel': {'xml:lang': 'en', 'type': 'literal', 'value': 'Franz Hochecker'}, 'placeLabel': {'xml:lang': 'en', 'type': 'literal', 'value': 'Frankfurt'}}\n",
      "{'item': {'type': 'uri', 'value': 'http://www.wikidata.org/entity/Q37228060'}, 'place': {'type': 'uri', 'value': 'http://www.wikidata.org/entity/Q1726'}, 'coord': {'datatype': 'http://www.opengis.net/ont/geosparql#wktLiteral', 'type': 'literal', 'value': 'Point(11.5755 48.137194444)'}, 'itemLabel': {'xml:lang': 'en', 'type': 'literal', 'value': 'Anton Leidl'}, 'placeLabel': {'xml:lang': 'en', 'type': 'literal', 'value': 'Munich'}}\n",
      "{'item': {'type': 'uri', 'value': 'http://www.wikidata.org/entity/Q1895825'}, 'place': {'type': 'uri', 'value': 'http://www.wikidata.org/entity/Q1715'}, 'coord': {'datatype': 'http://www.opengis.net/ont/geosparql#wktLiteral', 'type': 'literal', 'value': 'Point(9.738611111 52.374444444)'}, 'itemLabel': {'xml:lang': 'en', 'type': 'literal', 'value': 'Elisabeth Ziesenis'}, 'placeLabel': {'xml:lang': 'en', 'type': 'literal', 'value': 'Hanover'}}\n",
      "{'item': {'type': 'uri', 'value': 'http://www.wikidata.org/entity/Q1896888'}, 'place': {'type': 'uri', 'value': 'http://www.wikidata.org/entity/Q1726'}, 'coord': {'datatype': 'http://www.opengis.net/ont/geosparql#wktLiteral', 'type': 'literal', 'value': 'Point(11.5755 48.137194444)'}, 'itemLabel': {'xml:lang': 'en', 'type': 'literal', 'value': 'Marianne Rousselle'}, 'placeLabel': {'xml:lang': 'en', 'type': 'literal', 'value': 'Munich'}}\n",
      "{'item': {'type': 'uri', 'value': 'http://www.wikidata.org/entity/Q56883643'}, 'place': {'type': 'uri', 'value': 'http://www.wikidata.org/entity/Q159'}, 'coord': {'datatype': 'http://www.opengis.net/ont/geosparql#wktLiteral', 'type': 'literal', 'value': 'Point(100.0 62.0)'}, 'itemLabel': {'xml:lang': 'en', 'type': 'literal', 'value': 'Karl Mahr'}, 'placeLabel': {'xml:lang': 'en', 'type': 'literal', 'value': 'Russia'}}\n",
      "{'item': {'type': 'uri', 'value': 'http://www.wikidata.org/entity/Q52149408'}, 'place': {'type': 'uri', 'value': 'http://www.wikidata.org/entity/Q1794'}, 'coord': {'datatype': 'http://www.opengis.net/ont/geosparql#wktLiteral', 'type': 'literal', 'value': 'Point(8.679722222 50.113611111)'}, 'itemLabel': {'xml:lang': 'en', 'type': 'literal', 'value': 'Friedrich Ludwig Neubauer'}, 'placeLabel': {'xml:lang': 'en', 'type': 'literal', 'value': 'Frankfurt'}}\n",
      "{'item': {'type': 'uri', 'value': 'http://www.wikidata.org/entity/Q27898851'}, 'place': {'type': 'uri', 'value': 'http://www.wikidata.org/entity/Q1794'}, 'coord': {'datatype': 'http://www.opengis.net/ont/geosparql#wktLiteral', 'type': 'literal', 'value': 'Point(8.679722222 50.113611111)'}, 'itemLabel': {'xml:lang': 'en', 'type': 'literal', 'value': 'Karl Julius Grätz'}, 'placeLabel': {'xml:lang': 'en', 'type': 'literal', 'value': 'Frankfurt'}}\n",
      "{'item': {'type': 'uri', 'value': 'http://www.wikidata.org/entity/Q33389365'}, 'place': {'type': 'uri', 'value': 'http://www.wikidata.org/entity/Q1718'}, 'coord': {'datatype': 'http://www.opengis.net/ont/geosparql#wktLiteral', 'type': 'literal', 'value': 'Point(6.772380555 51.231144444)'}, 'itemLabel': {'xml:lang': 'en', 'type': 'literal', 'value': 'Klaus Köhler-Achenbach'}, 'placeLabel': {'xml:lang': 'en', 'type': 'literal', 'value': 'Düsseldorf'}}\n",
      "{'item': {'type': 'uri', 'value': 'http://www.wikidata.org/entity/Q1872208'}, 'place': {'type': 'uri', 'value': 'http://www.wikidata.org/entity/Q1794'}, 'coord': {'datatype': 'http://www.opengis.net/ont/geosparql#wktLiteral', 'type': 'literal', 'value': 'Point(8.679722222 50.113611111)'}, 'itemLabel': {'xml:lang': 'en', 'type': 'literal', 'value': 'Louise von Panhuys'}, 'placeLabel': {'xml:lang': 'en', 'type': 'literal', 'value': 'Frankfurt'}}\n",
      "{'item': {'type': 'uri', 'value': 'http://www.wikidata.org/entity/Q19285114'}, 'place': {'type': 'uri', 'value': 'http://www.wikidata.org/entity/Q1794'}, 'coord': {'datatype': 'http://www.opengis.net/ont/geosparql#wktLiteral', 'type': 'literal', 'value': 'Point(8.679722222 50.113611111)'}, 'itemLabel': {'xml:lang': 'en', 'type': 'literal', 'value': 'Heinrich Adolf Valentin Hoffmann'}, 'placeLabel': {'xml:lang': 'en', 'type': 'literal', 'value': 'Frankfurt'}}\n",
      "{'item': {'type': 'uri', 'value': 'http://www.wikidata.org/entity/Q2086720'}, 'place': {'type': 'uri', 'value': 'http://www.wikidata.org/entity/Q64'}, 'coord': {'datatype': 'http://www.opengis.net/ont/geosparql#wktLiteral', 'type': 'literal', 'value': 'Point(13.383333333 52.516666666)'}, 'itemLabel': {'xml:lang': 'en', 'type': 'literal', 'value': 'Philipp Franck'}, 'placeLabel': {'xml:lang': 'en', 'type': 'literal', 'value': 'Berlin'}}\n",
      "{'item': {'type': 'uri', 'value': 'http://www.wikidata.org/entity/Q6233917'}, 'place': {'type': 'uri', 'value': 'http://www.wikidata.org/entity/Q1754'}, 'coord': {'datatype': 'http://www.opengis.net/ont/geosparql#wktLiteral', 'type': 'literal', 'value': 'Point(18.068611111 59.329444444)'}, 'itemLabel': {'xml:lang': 'en', 'type': 'literal', 'value': 'Anders Wechel'}, 'placeLabel': {'xml:lang': 'en', 'type': 'literal', 'value': 'Stockholm'}}\n",
      "{'item': {'type': 'uri', 'value': 'http://www.wikidata.org/entity/Q50821760'}, 'place': {'type': 'uri', 'value': 'http://www.wikidata.org/entity/Q2599513'}, 'coord': {'datatype': 'http://www.opengis.net/ont/geosparql#wktLiteral', 'type': 'literal', 'value': 'Point(12.948680424 55.885579506)'}, 'itemLabel': {'xml:lang': 'en', 'type': 'literal', 'value': 'Carola Wallinder'}, 'placeLabel': {'xml:lang': 'en', 'type': 'literal', 'value': 'Asmundtorp'}}\n",
      "{'item': {'type': 'uri', 'value': 'http://www.wikidata.org/entity/Q15436164'}, 'place': {'type': 'uri', 'value': 'http://www.wikidata.org/entity/Q1726'}, 'coord': {'datatype': 'http://www.opengis.net/ont/geosparql#wktLiteral', 'type': 'literal', 'value': 'Point(11.5755 48.137194444)'}, 'itemLabel': {'xml:lang': 'en', 'type': 'literal', 'value': 'Hermine Moos'}, 'placeLabel': {'xml:lang': 'en', 'type': 'literal', 'value': 'Munich'}}\n",
      "{'item': {'type': 'uri', 'value': 'http://www.wikidata.org/entity/Q18508214'}, 'place': {'type': 'uri', 'value': 'http://www.wikidata.org/entity/Q84'}, 'coord': {'datatype': 'http://www.opengis.net/ont/geosparql#wktLiteral', 'type': 'literal', 'value': 'Point(-0.1275 51.507222222)'}, 'itemLabel': {'xml:lang': 'en', 'type': 'literal', 'value': 'Friedrich Wilhelm Keyl'}, 'placeLabel': {'xml:lang': 'en', 'type': 'literal', 'value': 'London'}}\n",
      "{'item': {'type': 'uri', 'value': 'http://www.wikidata.org/entity/Q215526'}, 'place': {'type': 'uri', 'value': 'http://www.wikidata.org/entity/Q60'}, 'coord': {'datatype': 'http://www.opengis.net/ont/geosparql#wktLiteral', 'type': 'literal', 'value': 'Point(-73.94 40.67)'}, 'itemLabel': {'xml:lang': 'en', 'type': 'literal', 'value': 'Eric Isenburger'}, 'placeLabel': {'xml:lang': 'en', 'type': 'literal', 'value': 'New York City'}}\n",
      "{'item': {'type': 'uri', 'value': 'http://www.wikidata.org/entity/Q52154269'}, 'place': {'type': 'uri', 'value': 'http://www.wikidata.org/entity/Q1794'}, 'coord': {'datatype': 'http://www.opengis.net/ont/geosparql#wktLiteral', 'type': 'literal', 'value': 'Point(8.679722222 50.113611111)'}, 'itemLabel': {'xml:lang': 'en', 'type': 'literal', 'value': 'Johann Gerlach Lambert'}, 'placeLabel': {'xml:lang': 'en', 'type': 'literal', 'value': 'Frankfurt'}}\n",
      "{'item': {'type': 'uri', 'value': 'http://www.wikidata.org/entity/Q41260791'}, 'place': {'type': 'uri', 'value': 'http://www.wikidata.org/entity/Q1794'}, 'coord': {'datatype': 'http://www.opengis.net/ont/geosparql#wktLiteral', 'type': 'literal', 'value': 'Point(8.679722222 50.113611111)'}, 'itemLabel': {'xml:lang': 'en', 'type': 'literal', 'value': 'Martin Kaldenbach'}, 'placeLabel': {'xml:lang': 'en', 'type': 'literal', 'value': 'Frankfurt'}}\n",
      "{'item': {'type': 'uri', 'value': 'http://www.wikidata.org/entity/Q2149508'}, 'place': {'type': 'uri', 'value': 'http://www.wikidata.org/entity/Q235'}, 'coord': {'datatype': 'http://www.opengis.net/ont/geosparql#wktLiteral', 'type': 'literal', 'value': 'Point(7.416666666 43.733333333)'}, 'itemLabel': {'xml:lang': 'en', 'type': 'literal', 'value': 'Richard Fresenius'}, 'placeLabel': {'xml:lang': 'en', 'type': 'literal', 'value': 'Monaco'}}\n",
      "{'item': {'type': 'uri', 'value': 'http://www.wikidata.org/entity/Q1699964'}, 'place': {'type': 'uri', 'value': 'http://www.wikidata.org/entity/Q1794'}, 'coord': {'datatype': 'http://www.opengis.net/ont/geosparql#wktLiteral', 'type': 'literal', 'value': 'Point(8.679722222 50.113611111)'}, 'itemLabel': {'xml:lang': 'en', 'type': 'literal', 'value': 'John Elsas'}, 'placeLabel': {'xml:lang': 'en', 'type': 'literal', 'value': 'Frankfurt'}}\n",
      "{'item': {'type': 'uri', 'value': 'http://www.wikidata.org/entity/Q55191318'}, 'place': {'type': 'uri', 'value': 'http://www.wikidata.org/entity/Q1720'}, 'coord': {'datatype': 'http://www.opengis.net/ont/geosparql#wktLiteral', 'type': 'literal', 'value': 'Point(8.266666666 50.0)'}, 'itemLabel': {'xml:lang': 'en', 'type': 'literal', 'value': 'Isaak Bager'}, 'placeLabel': {'xml:lang': 'en', 'type': 'literal', 'value': 'Mainz'}}\n",
      "{'item': {'type': 'uri', 'value': 'http://www.wikidata.org/entity/Q15428596'}, 'place': {'type': 'uri', 'value': 'http://www.wikidata.org/entity/Q7077'}, 'coord': {'datatype': 'http://www.opengis.net/ont/geosparql#wktLiteral', 'type': 'literal', 'value': 'Point(11.434166666 48.260277777)'}, 'itemLabel': {'xml:lang': 'en', 'type': 'literal', 'value': 'Oskar Coester'}, 'placeLabel': {'xml:lang': 'en', 'type': 'literal', 'value': 'Dachau'}}\n",
      "{'item': {'type': 'uri', 'value': 'http://www.wikidata.org/entity/Q73347'}, 'place': {'type': 'uri', 'value': 'http://www.wikidata.org/entity/Q1794'}, 'coord': {'datatype': 'http://www.opengis.net/ont/geosparql#wktLiteral', 'type': 'literal', 'value': 'Point(8.679722222 50.113611111)'}, 'itemLabel': {'xml:lang': 'en', 'type': 'literal', 'value': 'Johann David Passavant'}, 'placeLabel': {'xml:lang': 'en', 'type': 'literal', 'value': 'Frankfurt'}}\n",
      "{'item': {'type': 'uri', 'value': 'http://www.wikidata.org/entity/Q27093127'}, 'place': {'type': 'uri', 'value': 'http://www.wikidata.org/entity/Q1794'}, 'coord': {'datatype': 'http://www.opengis.net/ont/geosparql#wktLiteral', 'type': 'literal', 'value': 'Point(8.679722222 50.113611111)'}, 'itemLabel': {'xml:lang': 'en', 'type': 'literal', 'value': 'Daniel Thielen'}, 'placeLabel': {'xml:lang': 'en', 'type': 'literal', 'value': 'Frankfurt'}}\n",
      "{'item': {'type': 'uri', 'value': 'http://www.wikidata.org/entity/Q49481364'}, 'place': {'type': 'uri', 'value': 'http://www.wikidata.org/entity/Q2119'}, 'coord': {'datatype': 'http://www.opengis.net/ont/geosparql#wktLiteral', 'type': 'literal', 'value': 'Point(8.463055555 49.483611111)'}, 'itemLabel': {'xml:lang': 'en', 'type': 'literal', 'value': 'Wilhelm Oertel'}, 'placeLabel': {'xml:lang': 'en', 'type': 'literal', 'value': 'Mannheim'}}\n",
      "{'item': {'type': 'uri', 'value': 'http://www.wikidata.org/entity/Q20775486'}, 'place': {'type': 'uri', 'value': 'http://www.wikidata.org/entity/Q1794'}, 'coord': {'datatype': 'http://www.opengis.net/ont/geosparql#wktLiteral', 'type': 'literal', 'value': 'Point(8.679722222 50.113611111)'}, 'itemLabel': {'xml:lang': 'en', 'type': 'literal', 'value': 'Mateo Cristiani'}, 'placeLabel': {'xml:lang': 'en', 'type': 'literal', 'value': 'Frankfurt'}}\n",
      "{'item': {'type': 'uri', 'value': 'http://www.wikidata.org/entity/Q21033576'}, 'place': {'type': 'uri', 'value': 'http://www.wikidata.org/entity/Q1794'}, 'coord': {'datatype': 'http://www.opengis.net/ont/geosparql#wktLiteral', 'type': 'literal', 'value': 'Point(8.679722222 50.113611111)'}, 'itemLabel': {'xml:lang': 'en', 'type': 'literal', 'value': 'Joseph Kaspar Correggio'}, 'placeLabel': {'xml:lang': 'en', 'type': 'literal', 'value': 'Frankfurt'}}\n",
      "{'item': {'type': 'uri', 'value': 'http://www.wikidata.org/entity/Q11337181'}, 'place': {'type': 'uri', 'value': 'http://www.wikidata.org/entity/Q1794'}, 'coord': {'datatype': 'http://www.opengis.net/ont/geosparql#wktLiteral', 'type': 'literal', 'value': 'Point(8.679722222 50.113611111)'}, 'itemLabel': {'xml:lang': 'en', 'type': 'literal', 'value': 'Bernhard J. Dondorf'}, 'placeLabel': {'xml:lang': 'en', 'type': 'literal', 'value': 'Frankfurt'}}\n",
      "{'item': {'type': 'uri', 'value': 'http://www.wikidata.org/entity/Q23892254'}, 'place': {'type': 'uri', 'value': 'http://www.wikidata.org/entity/Q160175'}, 'coord': {'datatype': 'http://www.opengis.net/ont/geosparql#wktLiteral', 'type': 'literal', 'value': 'Point(14.149722 50.510278)'}, 'itemLabel': {'xml:lang': 'en', 'type': 'literal', 'value': 'Johanna Oppenheimer'}, 'placeLabel': {'xml:lang': 'en', 'type': 'literal', 'value': 'Theresienstadt concentration camp'}}\n",
      "{'item': {'type': 'uri', 'value': 'http://www.wikidata.org/entity/Q21565069'}, 'place': {'type': 'uri', 'value': 'http://www.wikidata.org/entity/Q1726'}, 'coord': {'datatype': 'http://www.opengis.net/ont/geosparql#wktLiteral', 'type': 'literal', 'value': 'Point(11.5755 48.137194444)'}, 'itemLabel': {'xml:lang': 'en', 'type': 'literal', 'value': 'Hermann Lindenschmit'}, 'placeLabel': {'xml:lang': 'en', 'type': 'literal', 'value': 'Munich'}}\n",
      "{'item': {'type': 'uri', 'value': 'http://www.wikidata.org/entity/Q46998402'}, 'place': {'type': 'uri', 'value': 'http://www.wikidata.org/entity/Q1794'}, 'coord': {'datatype': 'http://www.opengis.net/ont/geosparql#wktLiteral', 'type': 'literal', 'value': 'Point(8.679722222 50.113611111)'}, 'itemLabel': {'xml:lang': 'en', 'type': 'literal', 'value': 'Friedrich Wilhelm Hirt'}, 'placeLabel': {'xml:lang': 'en', 'type': 'literal', 'value': 'Frankfurt'}}\n",
      "{'item': {'type': 'uri', 'value': 'http://www.wikidata.org/entity/Q53157132'}, 'place': {'type': 'uri', 'value': 'http://www.wikidata.org/entity/Q220'}, 'coord': {'datatype': 'http://www.opengis.net/ont/geosparql#wktLiteral', 'type': 'literal', 'value': 'Point(12.482777777 41.893055555)'}, 'itemLabel': {'xml:lang': 'en', 'type': 'literal', 'value': 'Franz Anton Brentano'}, 'placeLabel': {'xml:lang': 'en', 'type': 'literal', 'value': 'Rome'}}\n",
      "{'item': {'type': 'uri', 'value': 'http://www.wikidata.org/entity/Q19286940'}, 'place': {'type': 'uri', 'value': 'http://www.wikidata.org/entity/Q1794'}, 'coord': {'datatype': 'http://www.opengis.net/ont/geosparql#wktLiteral', 'type': 'literal', 'value': 'Point(8.679722222 50.113611111)'}, 'itemLabel': {'xml:lang': 'en', 'type': 'literal', 'value': 'Johannes Thomas'}, 'placeLabel': {'xml:lang': 'en', 'type': 'literal', 'value': 'Frankfurt'}}\n",
      "{'item': {'type': 'uri', 'value': 'http://www.wikidata.org/entity/Q215162'}, 'place': {'type': 'uri', 'value': 'http://www.wikidata.org/entity/Q3130'}, 'coord': {'datatype': 'http://www.opengis.net/ont/geosparql#wktLiteral', 'type': 'literal', 'value': 'Point(151.2 -33.866666666)'}, 'itemLabel': {'xml:lang': 'en', 'type': 'literal', 'value': 'Ludwig Hirschfeld Mack'}, 'placeLabel': {'xml:lang': 'en', 'type': 'literal', 'value': 'Sydney'}}\n",
      "{'item': {'type': 'uri', 'value': 'http://www.wikidata.org/entity/Q15434609'}, 'place': {'type': 'uri', 'value': 'http://www.wikidata.org/entity/Q1794'}, 'coord': {'datatype': 'http://www.opengis.net/ont/geosparql#wktLiteral', 'type': 'literal', 'value': 'Point(8.679722222 50.113611111)'}, 'itemLabel': {'xml:lang': 'en', 'type': 'literal', 'value': 'Karl Friedrich Harveng'}, 'placeLabel': {'xml:lang': 'en', 'type': 'literal', 'value': 'Frankfurt'}}\n",
      "{'item': {'type': 'uri', 'value': 'http://www.wikidata.org/entity/Q19295047'}, 'place': {'type': 'uri', 'value': 'http://www.wikidata.org/entity/Q90'}, 'coord': {'datatype': 'http://www.opengis.net/ont/geosparql#wktLiteral', 'type': 'literal', 'value': 'Point(2.351388888 48.856944444)'}, 'itemLabel': {'xml:lang': 'en', 'type': 'literal', 'value': 'Ludwig Halle'}, 'placeLabel': {'xml:lang': 'en', 'type': 'literal', 'value': 'Paris'}}\n",
      "{'item': {'type': 'uri', 'value': 'http://www.wikidata.org/entity/Q62530'}, 'place': {'type': 'uri', 'value': 'http://www.wikidata.org/entity/Q727'}, 'coord': {'datatype': 'http://www.opengis.net/ont/geosparql#wktLiteral', 'type': 'literal', 'value': 'Point(4.9 52.383333333)'}, 'itemLabel': {'xml:lang': 'en', 'type': 'literal', 'value': 'Maria Sibylla Merian'}, 'placeLabel': {'xml:lang': 'en', 'type': 'literal', 'value': 'Amsterdam'}}\n",
      "{'item': {'type': 'uri', 'value': 'http://www.wikidata.org/entity/Q215547'}, 'place': {'type': 'uri', 'value': 'http://www.wikidata.org/entity/Q7024'}, 'coord': {'datatype': 'http://www.opengis.net/ont/geosparql#wktLiteral', 'type': 'literal', 'value': 'Point(8.9625 46.010277777)'}, 'itemLabel': {'xml:lang': 'en', 'type': 'literal', 'value': 'Francis Bott'}, 'placeLabel': {'xml:lang': 'en', 'type': 'literal', 'value': 'Lugano'}}\n",
      "{'item': {'type': 'uri', 'value': 'http://www.wikidata.org/entity/Q44256709'}, 'place': {'type': 'uri', 'value': 'http://www.wikidata.org/entity/Q1726'}, 'coord': {'datatype': 'http://www.opengis.net/ont/geosparql#wktLiteral', 'type': 'literal', 'value': 'Point(11.5755 48.137194444)'}, 'itemLabel': {'xml:lang': 'en', 'type': 'literal', 'value': 'Karl Johann Nikolaus Piepho'}, 'placeLabel': {'xml:lang': 'en', 'type': 'literal', 'value': 'Munich'}}\n",
      "{'item': {'type': 'uri', 'value': 'http://www.wikidata.org/entity/Q2544738'}, 'place': {'type': 'uri', 'value': 'http://www.wikidata.org/entity/Q1794'}, 'coord': {'datatype': 'http://www.opengis.net/ont/geosparql#wktLiteral', 'type': 'literal', 'value': 'Point(8.679722222 50.113611111)'}, 'itemLabel': {'xml:lang': 'en', 'type': 'literal', 'value': 'Walter Hergenhahn'}, 'placeLabel': {'xml:lang': 'en', 'type': 'literal', 'value': 'Frankfurt'}}\n",
      "{'item': {'type': 'uri', 'value': 'http://www.wikidata.org/entity/Q52148540'}, 'place': {'type': 'uri', 'value': 'http://www.wikidata.org/entity/Q1794'}, 'coord': {'datatype': 'http://www.opengis.net/ont/geosparql#wktLiteral', 'type': 'literal', 'value': 'Point(8.679722222 50.113611111)'}, 'itemLabel': {'xml:lang': 'en', 'type': 'literal', 'value': 'Ferdinand Balzer'}, 'placeLabel': {'xml:lang': 'en', 'type': 'literal', 'value': 'Frankfurt'}}\n",
      "{'item': {'type': 'uri', 'value': 'http://www.wikidata.org/entity/Q19117402'}, 'place': {'type': 'uri', 'value': 'http://www.wikidata.org/entity/Q1794'}, 'coord': {'datatype': 'http://www.opengis.net/ont/geosparql#wktLiteral', 'type': 'literal', 'value': 'Point(8.679722222 50.113611111)'}, 'itemLabel': {'xml:lang': 'en', 'type': 'literal', 'value': 'Heinrich Friedrich Höffler'}, 'placeLabel': {'xml:lang': 'en', 'type': 'literal', 'value': 'Frankfurt'}}\n",
      "{'item': {'type': 'uri', 'value': 'http://www.wikidata.org/entity/Q2571704'}, 'place': {'type': 'uri', 'value': 'http://www.wikidata.org/entity/Q1794'}, 'coord': {'datatype': 'http://www.opengis.net/ont/geosparql#wktLiteral', 'type': 'literal', 'value': 'Point(8.679722222 50.113611111)'}, 'itemLabel': {'xml:lang': 'en', 'type': 'literal', 'value': 'Wilhelm Amandus Beer'}, 'placeLabel': {'xml:lang': 'en', 'type': 'literal', 'value': 'Frankfurt'}}\n",
      "{'item': {'type': 'uri', 'value': 'http://www.wikidata.org/entity/Q66024113'}, 'place': {'type': 'uri', 'value': 'http://www.wikidata.org/entity/Q78'}, 'coord': {'datatype': 'http://www.opengis.net/ont/geosparql#wktLiteral', 'type': 'literal', 'value': 'Point(7.590555555 47.560555555)'}, 'itemLabel': {'xml:lang': 'en', 'type': 'literal', 'value': 'Heinz Fiorese'}, 'placeLabel': {'xml:lang': 'en', 'type': 'literal', 'value': 'Basel'}}\n",
      "{'item': {'type': 'uri', 'value': 'http://www.wikidata.org/entity/Q52150481'}, 'place': {'type': 'uri', 'value': 'http://www.wikidata.org/entity/Q1794'}, 'coord': {'datatype': 'http://www.opengis.net/ont/geosparql#wktLiteral', 'type': 'literal', 'value': 'Point(8.679722222 50.113611111)'}, 'itemLabel': {'xml:lang': 'en', 'type': 'literal', 'value': 'Gustav Adolf Kilb'}, 'placeLabel': {'xml:lang': 'en', 'type': 'literal', 'value': 'Frankfurt'}}\n",
      "{'item': {'type': 'uri', 'value': 'http://www.wikidata.org/entity/Q44280638'}, 'place': {'type': 'uri', 'value': 'http://www.wikidata.org/entity/Q1794'}, 'coord': {'datatype': 'http://www.opengis.net/ont/geosparql#wktLiteral', 'type': 'literal', 'value': 'Point(8.679722222 50.113611111)'}, 'itemLabel': {'xml:lang': 'en', 'type': 'literal', 'value': 'Eugenie Bandell'}, 'placeLabel': {'xml:lang': 'en', 'type': 'literal', 'value': 'Frankfurt'}}\n",
      "{'item': {'type': 'uri', 'value': 'http://www.wikidata.org/entity/Q52317'}, 'place': {'type': 'uri', 'value': 'http://www.wikidata.org/entity/Q6149'}, 'coord': {'datatype': 'http://www.opengis.net/ont/geosparql#wktLiteral', 'type': 'literal', 'value': 'Point(8.109166666 51.571111111)'}, 'itemLabel': {'xml:lang': 'en', 'type': 'literal', 'value': 'Peter Becker'}, 'placeLabel': {'xml:lang': 'en', 'type': 'literal', 'value': 'Soest'}}\n",
      "{'item': {'type': 'uri', 'value': 'http://www.wikidata.org/entity/Q28533932'}, 'place': {'type': 'uri', 'value': 'http://www.wikidata.org/entity/Q1741'}, 'coord': {'datatype': 'http://www.opengis.net/ont/geosparql#wktLiteral', 'type': 'literal', 'value': 'Point(16.373064 48.20833)'}, 'itemLabel': {'xml:lang': 'en', 'type': 'literal', 'value': 'Teutwart Schmitson'}, 'placeLabel': {'xml:lang': 'en', 'type': 'literal', 'value': 'Vienna'}}\n",
      "{'item': {'type': 'uri', 'value': 'http://www.wikidata.org/entity/Q14401908'}, 'place': {'type': 'uri', 'value': 'http://www.wikidata.org/entity/Q1794'}, 'coord': {'datatype': 'http://www.opengis.net/ont/geosparql#wktLiteral', 'type': 'literal', 'value': 'Point(8.679722222 50.113611111)'}, 'itemLabel': {'xml:lang': 'en', 'type': 'literal', 'value': 'Johann Georg Schütz'}, 'placeLabel': {'xml:lang': 'en', 'type': 'literal', 'value': 'Frankfurt'}}\n",
      "{'item': {'type': 'uri', 'value': 'http://www.wikidata.org/entity/Q46481870'}, 'place': {'type': 'uri', 'value': 'http://www.wikidata.org/entity/Q2966'}, 'coord': {'datatype': 'http://www.opengis.net/ont/geosparql#wktLiteral', 'type': 'literal', 'value': 'Point(8.71 49.412222222)'}, 'itemLabel': {'xml:lang': 'en', 'type': 'literal', 'value': 'Heinrich Franz'}, 'placeLabel': {'xml:lang': 'en', 'type': 'literal', 'value': 'Heidelberg'}}\n",
      "{'item': {'type': 'uri', 'value': 'http://www.wikidata.org/entity/Q41325099'}, 'place': {'type': 'uri', 'value': 'http://www.wikidata.org/entity/Q1794'}, 'coord': {'datatype': 'http://www.opengis.net/ont/geosparql#wktLiteral', 'type': 'literal', 'value': 'Point(8.679722222 50.113611111)'}, 'itemLabel': {'xml:lang': 'en', 'type': 'literal', 'value': 'Jacob Flegel'}, 'placeLabel': {'xml:lang': 'en', 'type': 'literal', 'value': 'Frankfurt'}}\n",
      "{'item': {'type': 'uri', 'value': 'http://www.wikidata.org/entity/Q16219477'}, 'place': {'type': 'uri', 'value': 'http://www.wikidata.org/entity/Q504854'}, 'coord': {'datatype': 'http://www.opengis.net/ont/geosparql#wktLiteral', 'type': 'literal', 'value': 'Point(11.428888888 48.118888888)'}, 'itemLabel': {'xml:lang': 'en', 'type': 'literal', 'value': 'Joseph Rudolf Witzel'}, 'placeLabel': {'xml:lang': 'en', 'type': 'literal', 'value': 'Gräfelfing'}}\n",
      "{'item': {'type': 'uri', 'value': 'http://www.wikidata.org/entity/Q15892368'}, 'place': {'type': 'uri', 'value': 'http://www.wikidata.org/entity/Q70'}, 'coord': {'datatype': 'http://www.opengis.net/ont/geosparql#wktLiteral', 'type': 'literal', 'value': 'Point(7.44743 46.94798)'}, 'itemLabel': {'xml:lang': 'en', 'type': 'literal', 'value': 'Paul Haefliger'}, 'placeLabel': {'xml:lang': 'en', 'type': 'literal', 'value': 'Bern'}}\n",
      "{'item': {'type': 'uri', 'value': 'http://www.wikidata.org/entity/Q15968549'}, 'place': {'type': 'uri', 'value': 'http://www.wikidata.org/entity/Q1794'}, 'coord': {'datatype': 'http://www.opengis.net/ont/geosparql#wktLiteral', 'type': 'literal', 'value': 'Point(8.679722222 50.113611111)'}, 'itemLabel': {'xml:lang': 'en', 'type': 'literal', 'value': 'Johann Jakob de Lose'}, 'placeLabel': {'xml:lang': 'en', 'type': 'literal', 'value': 'Frankfurt'}}\n",
      "{'item': {'type': 'uri', 'value': 'http://www.wikidata.org/entity/Q2038952'}, 'place': {'type': 'uri', 'value': 'http://www.wikidata.org/entity/Q159548'}, 'coord': {'datatype': 'http://www.opengis.net/ont/geosparql#wktLiteral', 'type': 'literal', 'value': 'Point(8.056388888 49.974722222)'}, 'itemLabel': {'xml:lang': 'en', 'type': 'literal', 'value': 'Otto Greis'}, 'placeLabel': {'xml:lang': 'en', 'type': 'literal', 'value': 'Ingelheim am Rhein'}}\n",
      "{'item': {'type': 'uri', 'value': 'http://www.wikidata.org/entity/Q27077666'}, 'place': {'type': 'uri', 'value': 'http://www.wikidata.org/entity/Q749'}, 'coord': {'datatype': 'http://www.opengis.net/ont/geosparql#wktLiteral', 'type': 'literal', 'value': 'Point(6.55 53.216666666)'}, 'itemLabel': {'xml:lang': 'en', 'type': 'literal', 'value': 'Johann Ludwig Hauck'}, 'placeLabel': {'xml:lang': 'en', 'type': 'literal', 'value': 'Groningen'}}\n",
      "{'item': {'type': 'uri', 'value': 'http://www.wikidata.org/entity/Q1869859'}, 'place': {'type': 'uri', 'value': 'http://www.wikidata.org/entity/Q1726'}, 'coord': {'datatype': 'http://www.opengis.net/ont/geosparql#wktLiteral', 'type': 'literal', 'value': 'Point(11.5755 48.137194444)'}, 'itemLabel': {'xml:lang': 'en', 'type': 'literal', 'value': 'Friedrich Joseph Ehemant'}, 'placeLabel': {'xml:lang': 'en', 'type': 'literal', 'value': 'Munich'}}\n",
      "{'item': {'type': 'uri', 'value': 'http://www.wikidata.org/entity/Q19964356'}, 'place': {'type': 'uri', 'value': 'http://www.wikidata.org/entity/Q1794'}, 'coord': {'datatype': 'http://www.opengis.net/ont/geosparql#wktLiteral', 'type': 'literal', 'value': 'Point(8.679722222 50.113611111)'}, 'itemLabel': {'xml:lang': 'en', 'type': 'literal', 'value': 'Philipp Rumpf'}, 'placeLabel': {'xml:lang': 'en', 'type': 'literal', 'value': 'Frankfurt'}}\n",
      "{'item': {'type': 'uri', 'value': 'http://www.wikidata.org/entity/Q6769863'}, 'place': {'type': 'uri', 'value': 'http://www.wikidata.org/entity/Q17042'}, 'coord': {'datatype': 'http://www.opengis.net/ont/geosparql#wktLiteral', 'type': 'literal', 'value': 'Point(-122.25 37.8)'}, 'itemLabel': {'xml:lang': 'en', 'type': 'literal', 'value': 'Mark Stock'}, 'placeLabel': {'xml:lang': 'en', 'type': 'literal', 'value': 'Oakland'}}\n",
      "{'item': {'type': 'uri', 'value': 'http://www.wikidata.org/entity/Q30311723'}, 'place': {'type': 'uri', 'value': 'http://www.wikidata.org/entity/Q70'}, 'coord': {'datatype': 'http://www.opengis.net/ont/geosparql#wktLiteral', 'type': 'literal', 'value': 'Point(7.44743 46.94798)'}, 'itemLabel': {'xml:lang': 'en', 'type': 'literal', 'value': 'Johann Niklaus Schiel'}, 'placeLabel': {'xml:lang': 'en', 'type': 'literal', 'value': 'Bern'}}\n",
      "{'item': {'type': 'uri', 'value': 'http://www.wikidata.org/entity/Q1678961'}, 'place': {'type': 'uri', 'value': 'http://www.wikidata.org/entity/Q90'}, 'coord': {'datatype': 'http://www.opengis.net/ont/geosparql#wktLiteral', 'type': 'literal', 'value': 'Point(2.351388888 48.856944444)'}, 'itemLabel': {'xml:lang': 'en', 'type': 'literal', 'value': 'Jacob Christoph Le Blon'}, 'placeLabel': {'xml:lang': 'en', 'type': 'literal', 'value': 'Paris'}}\n",
      "{'item': {'type': 'uri', 'value': 'http://www.wikidata.org/entity/Q1693902'}, 'place': {'type': 'uri', 'value': 'http://www.wikidata.org/entity/Q1794'}, 'coord': {'datatype': 'http://www.opengis.net/ont/geosparql#wktLiteral', 'type': 'literal', 'value': 'Point(8.679722222 50.113611111)'}, 'itemLabel': {'xml:lang': 'en', 'type': 'literal', 'value': 'Johann Georg Mohr'}, 'placeLabel': {'xml:lang': 'en', 'type': 'literal', 'value': 'Frankfurt'}}\n",
      "{'item': {'type': 'uri', 'value': 'http://www.wikidata.org/entity/Q2638962'}, 'place': {'type': 'uri', 'value': 'http://www.wikidata.org/entity/Q715'}, 'coord': {'datatype': 'http://www.opengis.net/ont/geosparql#wktLiteral', 'type': 'literal', 'value': 'Point(9.217953 49.140428)'}, 'itemLabel': {'xml:lang': 'en', 'type': 'literal', 'value': 'Albert Volk'}, 'placeLabel': {'xml:lang': 'en', 'type': 'literal', 'value': 'Heilbronn'}}\n",
      "{'item': {'type': 'uri', 'value': 'http://www.wikidata.org/entity/Q15726843'}, 'place': {'type': 'uri', 'value': 'http://www.wikidata.org/entity/Q64'}, 'coord': {'datatype': 'http://www.opengis.net/ont/geosparql#wktLiteral', 'type': 'literal', 'value': 'Point(13.383333333 52.516666666)'}, 'itemLabel': {'xml:lang': 'en', 'type': 'literal', 'value': 'Ludwig Löffler'}, 'placeLabel': {'xml:lang': 'en', 'type': 'literal', 'value': 'Berlin'}}\n",
      "{'item': {'type': 'uri', 'value': 'http://www.wikidata.org/entity/Q21708176'}, 'place': {'type': 'uri', 'value': 'http://www.wikidata.org/entity/Q1741'}, 'coord': {'datatype': 'http://www.opengis.net/ont/geosparql#wktLiteral', 'type': 'literal', 'value': 'Point(16.373064 48.20833)'}, 'itemLabel': {'xml:lang': 'en', 'type': 'literal', 'value': 'Isaak Major'}, 'placeLabel': {'xml:lang': 'en', 'type': 'literal', 'value': 'Vienna'}}\n",
      "{'item': {'type': 'uri', 'value': 'http://www.wikidata.org/entity/Q55846586'}, 'place': {'type': 'uri', 'value': 'http://www.wikidata.org/entity/Q84'}, 'coord': {'datatype': 'http://www.opengis.net/ont/geosparql#wktLiteral', 'type': 'literal', 'value': 'Point(-0.1275 51.507222222)'}, 'itemLabel': {'xml:lang': 'en', 'type': 'literal', 'value': 'Alfred Schwarzschild'}, 'placeLabel': {'xml:lang': 'en', 'type': 'literal', 'value': 'London'}}\n",
      "{'item': {'type': 'uri', 'value': 'http://www.wikidata.org/entity/Q88426'}, 'place': {'type': 'uri', 'value': 'http://www.wikidata.org/entity/Q1741'}, 'coord': {'datatype': 'http://www.opengis.net/ont/geosparql#wktLiteral', 'type': 'literal', 'value': 'Point(16.373064 48.20833)'}, 'itemLabel': {'xml:lang': 'en', 'type': 'literal', 'value': 'Otto Böhler'}, 'placeLabel': {'xml:lang': 'en', 'type': 'literal', 'value': 'Vienna'}}\n",
      "{'item': {'type': 'uri', 'value': 'http://www.wikidata.org/entity/Q62079957'}, 'place': {'type': 'uri', 'value': 'http://www.wikidata.org/entity/Q1794'}, 'coord': {'datatype': 'http://www.opengis.net/ont/geosparql#wktLiteral', 'type': 'literal', 'value': 'Point(8.679722222 50.113611111)'}, 'itemLabel': {'xml:lang': 'en', 'type': 'literal', 'value': 'Heinrich Hirt'}, 'placeLabel': {'xml:lang': 'en', 'type': 'literal', 'value': 'Frankfurt'}}\n",
      "{'item': {'type': 'uri', 'value': 'http://www.wikidata.org/entity/Q77022'}, 'place': {'type': 'uri', 'value': 'http://www.wikidata.org/entity/Q182872'}, 'coord': {'datatype': 'http://www.opengis.net/ont/geosparql#wktLiteral', 'type': 'literal', 'value': 'Point(2.701666666 48.408888888)'}, 'itemLabel': {'xml:lang': 'en', 'type': 'literal', 'value': 'Hermann Goldschmidt'}, 'placeLabel': {'xml:lang': 'en', 'type': 'literal', 'value': 'Fontainebleau'}}\n",
      "{'item': {'type': 'uri', 'value': 'http://www.wikidata.org/entity/Q49481364'}, 'place': {'type': 'uri', 'value': 'http://www.wikidata.org/entity/Q1794'}, 'coord': {'datatype': 'http://www.opengis.net/ont/geosparql#wktLiteral', 'type': 'literal', 'value': 'Point(8.679722222 50.113611111)'}, 'itemLabel': {'xml:lang': 'en', 'type': 'literal', 'value': 'Wilhelm Oertel'}, 'placeLabel': {'xml:lang': 'en', 'type': 'literal', 'value': 'Frankfurt'}}\n",
      "{'item': {'type': 'uri', 'value': 'http://www.wikidata.org/entity/Q1874664'}, 'place': {'type': 'uri', 'value': 'http://www.wikidata.org/entity/Q1794'}, 'coord': {'datatype': 'http://www.opengis.net/ont/geosparql#wktLiteral', 'type': 'literal', 'value': 'Point(8.679722222 50.113611111)'}, 'itemLabel': {'xml:lang': 'en', 'type': 'literal', 'value': 'Ludwig Klimsch'}, 'placeLabel': {'xml:lang': 'en', 'type': 'literal', 'value': 'Frankfurt'}}\n",
      "{'item': {'type': 'uri', 'value': 'http://www.wikidata.org/entity/Q30303027'}, 'place': {'type': 'uri', 'value': 'http://www.wikidata.org/entity/Q403'}, 'coord': {'datatype': 'http://www.opengis.net/ont/geosparql#wktLiteral', 'type': 'literal', 'value': 'Point(20.933333333 43.95)'}, 'itemLabel': {'xml:lang': 'en', 'type': 'literal', 'value': 'Fritz Grätz'}, 'placeLabel': {'xml:lang': 'en', 'type': 'literal', 'value': 'Serbia'}}\n",
      "{'item': {'type': 'uri', 'value': 'http://www.wikidata.org/entity/Q14229965'}, 'place': {'type': 'uri', 'value': 'http://www.wikidata.org/entity/Q1794'}, 'coord': {'datatype': 'http://www.opengis.net/ont/geosparql#wktLiteral', 'type': 'literal', 'value': 'Point(8.679722222 50.113611111)'}, 'itemLabel': {'xml:lang': 'en', 'type': 'literal', 'value': 'Friedrich Ernst Morgenstern'}, 'placeLabel': {'xml:lang': 'en', 'type': 'literal', 'value': 'Frankfurt'}}\n",
      "{'item': {'type': 'uri', 'value': 'http://www.wikidata.org/entity/Q16063982'}, 'place': {'type': 'uri', 'value': 'http://www.wikidata.org/entity/Q84'}, 'coord': {'datatype': 'http://www.opengis.net/ont/geosparql#wktLiteral', 'type': 'literal', 'value': 'Point(-0.1275 51.507222222)'}, 'itemLabel': {'xml:lang': 'en', 'type': 'literal', 'value': 'Johann Baptist Zwecker'}, 'placeLabel': {'xml:lang': 'en', 'type': 'literal', 'value': 'London'}}\n",
      "{'item': {'type': 'uri', 'value': 'http://www.wikidata.org/entity/Q40346224'}, 'place': {'type': 'uri', 'value': 'http://www.wikidata.org/entity/Q1794'}, 'coord': {'datatype': 'http://www.opengis.net/ont/geosparql#wktLiteral', 'type': 'literal', 'value': 'Point(8.679722222 50.113611111)'}, 'itemLabel': {'xml:lang': 'en', 'type': 'literal', 'value': 'Johann Matthäus von Merian'}, 'placeLabel': {'xml:lang': 'en', 'type': 'literal', 'value': 'Frankfurt'}}\n",
      "{'item': {'type': 'uri', 'value': 'http://www.wikidata.org/entity/Q19223012'}, 'place': {'type': 'uri', 'value': 'http://www.wikidata.org/entity/Q1794'}, 'coord': {'datatype': 'http://www.opengis.net/ont/geosparql#wktLiteral', 'type': 'literal', 'value': 'Point(8.679722222 50.113611111)'}, 'itemLabel': {'xml:lang': 'en', 'type': 'literal', 'value': 'Otto Donner von Richter'}, 'placeLabel': {'xml:lang': 'en', 'type': 'literal', 'value': 'Frankfurt'}}\n",
      "{'item': {'type': 'uri', 'value': 'http://www.wikidata.org/entity/Q42166720'}, 'place': {'type': 'uri', 'value': 'http://www.wikidata.org/entity/Q1794'}, 'coord': {'datatype': 'http://www.opengis.net/ont/geosparql#wktLiteral', 'type': 'literal', 'value': 'Point(8.679722222 50.113611111)'}, 'itemLabel': {'xml:lang': 'en', 'type': 'literal', 'value': 'Otto Cornill'}, 'placeLabel': {'xml:lang': 'en', 'type': 'literal', 'value': 'Frankfurt'}}\n",
      "{'item': {'type': 'uri', 'value': 'http://www.wikidata.org/entity/Q1679047'}, 'place': {'type': 'uri', 'value': 'http://www.wikidata.org/entity/Q1794'}, 'coord': {'datatype': 'http://www.opengis.net/ont/geosparql#wktLiteral', 'type': 'literal', 'value': 'Point(8.679722222 50.113611111)'}, 'itemLabel': {'xml:lang': 'en', 'type': 'literal', 'value': 'Jakob Fürchtegott Dielmann'}, 'placeLabel': {'xml:lang': 'en', 'type': 'literal', 'value': 'Frankfurt'}}\n",
      "{'item': {'type': 'uri', 'value': 'http://www.wikidata.org/entity/Q18508402'}, 'place': {'type': 'uri', 'value': 'http://www.wikidata.org/entity/Q1794'}, 'coord': {'datatype': 'http://www.opengis.net/ont/geosparql#wktLiteral', 'type': 'literal', 'value': 'Point(8.679722222 50.113611111)'}, 'itemLabel': {'xml:lang': 'en', 'type': 'literal', 'value': 'Johannes Kaspar Eissenhardt'}, 'placeLabel': {'xml:lang': 'en', 'type': 'literal', 'value': 'Frankfurt'}}\n",
      "{'item': {'type': 'uri', 'value': 'http://www.wikidata.org/entity/Q36537760'}, 'place': {'type': 'uri', 'value': 'http://www.wikidata.org/entity/Q1726'}, 'coord': {'datatype': 'http://www.opengis.net/ont/geosparql#wktLiteral', 'type': 'literal', 'value': 'Point(11.5755 48.137194444)'}, 'itemLabel': {'xml:lang': 'en', 'type': 'literal', 'value': 'Karl Friedrich Brust'}, 'placeLabel': {'xml:lang': 'en', 'type': 'literal', 'value': 'Munich'}}\n",
      "{'item': {'type': 'uri', 'value': 'http://www.wikidata.org/entity/Q3111520'}, 'place': {'type': 'uri', 'value': 'http://www.wikidata.org/entity/Q1715'}, 'coord': {'datatype': 'http://www.opengis.net/ont/geosparql#wktLiteral', 'type': 'literal', 'value': 'Point(9.738611111 52.374444444)'}, 'itemLabel': {'xml:lang': 'en', 'type': 'literal', 'value': 'Gottfried Boy'}, 'placeLabel': {'xml:lang': 'en', 'type': 'literal', 'value': 'Hanover'}}\n",
      "{'item': {'type': 'uri', 'value': 'http://www.wikidata.org/entity/Q1726467'}, 'place': {'type': 'uri', 'value': 'http://www.wikidata.org/entity/Q2999'}, 'coord': {'datatype': 'http://www.opengis.net/ont/geosparql#wktLiteral', 'type': 'literal', 'value': 'Point(9.929444444 49.794444444)'}, 'itemLabel': {'xml:lang': 'en', 'type': 'literal', 'value': 'Lino Salini'}, 'placeLabel': {'xml:lang': 'en', 'type': 'literal', 'value': 'Würzburg'}}\n",
      "{'item': {'type': 'uri', 'value': 'http://www.wikidata.org/entity/Q216193'}, 'place': {'type': 'uri', 'value': 'http://www.wikidata.org/entity/Q84'}, 'coord': {'datatype': 'http://www.opengis.net/ont/geosparql#wktLiteral', 'type': 'literal', 'value': 'Point(-0.1275 51.507222222)'}, 'itemLabel': {'xml:lang': 'en', 'type': 'literal', 'value': 'Hans Feibusch'}, 'placeLabel': {'xml:lang': 'en', 'type': 'literal', 'value': 'London'}}\n",
      "{'item': {'type': 'uri', 'value': 'http://www.wikidata.org/entity/Q19513791'}, 'place': {'type': 'uri', 'value': 'http://www.wikidata.org/entity/Q6602'}, 'coord': {'datatype': 'http://www.opengis.net/ont/geosparql#wktLiteral', 'type': 'literal', 'value': 'Point(7.752222222 48.573333333)'}, 'itemLabel': {'xml:lang': 'en', 'type': 'literal', 'value': 'Théodore Wüst'}, 'placeLabel': {'xml:lang': 'en', 'type': 'literal', 'value': 'Strasbourg'}}\n",
      "{'item': {'type': 'uri', 'value': 'http://www.wikidata.org/entity/Q214927'}, 'place': {'type': 'uri', 'value': 'http://www.wikidata.org/entity/Q1794'}, 'coord': {'datatype': 'http://www.opengis.net/ont/geosparql#wktLiteral', 'type': 'literal', 'value': 'Point(8.679722222 50.113611111)'}, 'itemLabel': {'xml:lang': 'en', 'type': 'literal', 'value': 'Johann Heinrich Hasselhorst'}, 'placeLabel': {'xml:lang': 'en', 'type': 'literal', 'value': 'Frankfurt'}}\n",
      "{'item': {'type': 'uri', 'value': 'http://www.wikidata.org/entity/Q50285801'}, 'place': {'type': 'uri', 'value': 'http://www.wikidata.org/entity/Q1794'}, 'coord': {'datatype': 'http://www.opengis.net/ont/geosparql#wktLiteral', 'type': 'literal', 'value': 'Point(8.679722222 50.113611111)'}, 'itemLabel': {'xml:lang': 'en', 'type': 'literal', 'value': 'Karl Franz Kraul'}, 'placeLabel': {'xml:lang': 'en', 'type': 'literal', 'value': 'Frankfurt'}}\n",
      "{'item': {'type': 'uri', 'value': 'http://www.wikidata.org/entity/Q52149356'}, 'place': {'type': 'uri', 'value': 'http://www.wikidata.org/entity/Q1794'}, 'coord': {'datatype': 'http://www.opengis.net/ont/geosparql#wktLiteral', 'type': 'literal', 'value': 'Point(8.679722222 50.113611111)'}, 'itemLabel': {'xml:lang': 'en', 'type': 'literal', 'value': 'Johann Peter Trautmann'}, 'placeLabel': {'xml:lang': 'en', 'type': 'literal', 'value': 'Frankfurt'}}\n",
      "{'item': {'type': 'uri', 'value': 'http://www.wikidata.org/entity/Q41258330'}, 'place': {'type': 'uri', 'value': 'http://www.wikidata.org/entity/Q1794'}, 'coord': {'datatype': 'http://www.opengis.net/ont/geosparql#wktLiteral', 'type': 'literal', 'value': 'Point(8.679722222 50.113611111)'}, 'itemLabel': {'xml:lang': 'en', 'type': 'literal', 'value': 'Isaak Juncker'}, 'placeLabel': {'xml:lang': 'en', 'type': 'literal', 'value': 'Frankfurt'}}\n",
      "{'item': {'type': 'uri', 'value': 'http://www.wikidata.org/entity/Q19501866'}, 'place': {'type': 'uri', 'value': 'http://www.wikidata.org/entity/Q1794'}, 'coord': {'datatype': 'http://www.opengis.net/ont/geosparql#wktLiteral', 'type': 'literal', 'value': 'Point(8.679722222 50.113611111)'}, 'itemLabel': {'xml:lang': 'en', 'type': 'literal', 'value': 'Adolf Leichum'}, 'placeLabel': {'xml:lang': 'en', 'type': 'literal', 'value': 'Frankfurt'}}\n",
      "{'item': {'type': 'uri', 'value': 'http://www.wikidata.org/entity/Q2086675'}, 'place': {'type': 'uri', 'value': 'http://www.wikidata.org/entity/Q2773'}, 'coord': {'datatype': 'http://www.opengis.net/ont/geosparql#wktLiteral', 'type': 'literal', 'value': 'Point(10.521111111 52.269166666)'}, 'itemLabel': {'xml:lang': 'en', 'type': 'literal', 'value': 'Philipp Erlanger'}, 'placeLabel': {'xml:lang': 'en', 'type': 'literal', 'value': 'Brunswick'}}\n",
      "{'item': {'type': 'uri', 'value': 'http://www.wikidata.org/entity/Q23000712'}, 'place': {'type': 'uri', 'value': 'http://www.wikidata.org/entity/Q60'}, 'coord': {'datatype': 'http://www.opengis.net/ont/geosparql#wktLiteral', 'type': 'literal', 'value': 'Point(-73.94 40.67)'}, 'itemLabel': {'xml:lang': 'en', 'type': 'literal', 'value': 'Samson Schames'}, 'placeLabel': {'xml:lang': 'en', 'type': 'literal', 'value': 'New York City'}}\n",
      "{'item': {'type': 'uri', 'value': 'http://www.wikidata.org/entity/Q77365'}, 'place': {'type': 'uri', 'value': 'http://www.wikidata.org/entity/Q64'}, 'coord': {'datatype': 'http://www.opengis.net/ont/geosparql#wktLiteral', 'type': 'literal', 'value': 'Point(13.383333333 52.516666666)'}, 'itemLabel': {'xml:lang': 'en', 'type': 'literal', 'value': 'Walter Ruttmann'}, 'placeLabel': {'xml:lang': 'en', 'type': 'literal', 'value': 'Berlin'}}\n",
      "{'item': {'type': 'uri', 'value': 'http://www.wikidata.org/entity/Q15063118'}, 'place': {'type': 'uri', 'value': 'http://www.wikidata.org/entity/Q71'}, 'coord': {'datatype': 'http://www.opengis.net/ont/geosparql#wktLiteral', 'type': 'literal', 'value': 'Point(6.15 46.2)'}, 'itemLabel': {'xml:lang': 'en', 'type': 'literal', 'value': 'Franz Schütz'}, 'placeLabel': {'xml:lang': 'en', 'type': 'literal', 'value': 'Geneva'}}\n",
      "{'item': {'type': 'uri', 'value': 'http://www.wikidata.org/entity/Q75018654'}, 'place': {'type': 'uri', 'value': 'http://www.wikidata.org/entity/Q1794'}, 'coord': {'datatype': 'http://www.opengis.net/ont/geosparql#wktLiteral', 'type': 'literal', 'value': 'Point(8.679722222 50.113611111)'}, 'itemLabel': {'xml:lang': 'en', 'type': 'literal', 'value': 'Jakob Hoff'}, 'placeLabel': {'xml:lang': 'en', 'type': 'literal', 'value': 'Frankfurt'}}\n",
      "{'item': {'type': 'uri', 'value': 'http://www.wikidata.org/entity/Q13360230'}, 'place': {'type': 'uri', 'value': 'http://www.wikidata.org/entity/Q1794'}, 'coord': {'datatype': 'http://www.opengis.net/ont/geosparql#wktLiteral', 'type': 'literal', 'value': 'Point(8.679722222 50.113611111)'}, 'itemLabel': {'xml:lang': 'en', 'type': 'literal', 'value': 'Carl Lill'}, 'placeLabel': {'xml:lang': 'en', 'type': 'literal', 'value': 'Frankfurt'}}\n",
      "{'item': {'type': 'uri', 'value': 'http://www.wikidata.org/entity/Q29017768'}, 'place': {'type': 'uri', 'value': 'http://www.wikidata.org/entity/Q64'}, 'coord': {'datatype': 'http://www.opengis.net/ont/geosparql#wktLiteral', 'type': 'literal', 'value': 'Point(13.383333333 52.516666666)'}, 'itemLabel': {'xml:lang': 'en', 'type': 'literal', 'value': 'Ernst Hausmann'}, 'placeLabel': {'xml:lang': 'en', 'type': 'literal', 'value': 'Berlin'}}\n",
      "{'item': {'type': 'uri', 'value': 'http://www.wikidata.org/entity/Q53506439'}, 'place': {'type': 'uri', 'value': 'http://www.wikidata.org/entity/Q1794'}, 'coord': {'datatype': 'http://www.opengis.net/ont/geosparql#wktLiteral', 'type': 'literal', 'value': 'Point(8.679722222 50.113611111)'}, 'itemLabel': {'xml:lang': 'en', 'type': 'literal', 'value': 'Johann Sandrart'}, 'placeLabel': {'xml:lang': 'en', 'type': 'literal', 'value': 'Frankfurt'}}\n",
      "{'item': {'type': 'uri', 'value': 'http://www.wikidata.org/entity/Q47492831'}, 'place': {'type': 'uri', 'value': 'http://www.wikidata.org/entity/Q1735'}, 'coord': {'datatype': 'http://www.opengis.net/ont/geosparql#wktLiteral', 'type': 'literal', 'value': 'Point(11.393333333 47.268333333)'}, 'itemLabel': {'xml:lang': 'en', 'type': 'literal', 'value': 'Andreas Ziegler'}, 'placeLabel': {'xml:lang': 'en', 'type': 'literal', 'value': 'Innsbruck'}}\n",
      "{'item': {'type': 'uri', 'value': 'http://www.wikidata.org/entity/Q2078078'}, 'place': {'type': 'uri', 'value': 'http://www.wikidata.org/entity/Q99937'}, 'coord': {'datatype': 'http://www.opengis.net/ont/geosparql#wktLiteral', 'type': 'literal', 'value': 'Point(12.4007 44.2012)'}, 'itemLabel': {'xml:lang': 'en', 'type': 'literal', 'value': 'Peter Schermuly'}, 'placeLabel': {'xml:lang': 'en', 'type': 'literal', 'value': 'Cesenatico'}}\n",
      "{'item': {'type': 'uri', 'value': 'http://www.wikidata.org/entity/Q2039800'}, 'place': {'type': 'uri', 'value': 'http://www.wikidata.org/entity/Q1794'}, 'coord': {'datatype': 'http://www.opengis.net/ont/geosparql#wktLiteral', 'type': 'literal', 'value': 'Point(8.679722222 50.113611111)'}, 'itemLabel': {'xml:lang': 'en', 'type': 'literal', 'value': 'Otto Linnemann'}, 'placeLabel': {'xml:lang': 'en', 'type': 'literal', 'value': 'Frankfurt'}}\n",
      "{'item': {'type': 'uri', 'value': 'http://www.wikidata.org/entity/Q55119844'}, 'place': {'type': 'uri', 'value': 'http://www.wikidata.org/entity/Q1794'}, 'coord': {'datatype': 'http://www.opengis.net/ont/geosparql#wktLiteral', 'type': 'literal', 'value': 'Point(8.679722222 50.113611111)'}, 'itemLabel': {'xml:lang': 'en', 'type': 'literal', 'value': 'Friedrich Wilhelm Schäfer'}, 'placeLabel': {'xml:lang': 'en', 'type': 'literal', 'value': 'Frankfurt'}}\n",
      "{'item': {'type': 'uri', 'value': 'http://www.wikidata.org/entity/Q28972900'}, 'place': {'type': 'uri', 'value': 'http://www.wikidata.org/entity/Q1720'}, 'coord': {'datatype': 'http://www.opengis.net/ont/geosparql#wktLiteral', 'type': 'literal', 'value': 'Point(8.266666666 50.0)'}, 'itemLabel': {'xml:lang': 'en', 'type': 'literal', 'value': 'Johann Erdmann Gottlieb Prestel'}, 'placeLabel': {'xml:lang': 'en', 'type': 'literal', 'value': 'Mainz'}}\n",
      "{'item': {'type': 'uri', 'value': 'http://www.wikidata.org/entity/Q19258385'}, 'place': {'type': 'uri', 'value': 'http://www.wikidata.org/entity/Q1726'}, 'coord': {'datatype': 'http://www.opengis.net/ont/geosparql#wktLiteral', 'type': 'literal', 'value': 'Point(11.5755 48.137194444)'}, 'itemLabel': {'xml:lang': 'en', 'type': 'literal', 'value': 'Adda Kesselkaul'}, 'placeLabel': {'xml:lang': 'en', 'type': 'literal', 'value': 'Munich'}}\n"
     ]
    },
    {
     "data": {
      "application/vnd.plotly.v1+json": {
       "config": {
        "plotlyServerURL": "https://plot.ly"
       },
       "data": [
        {
         "geo": "geo",
         "hoverlabel": {
          "namelength": 0
         },
         "hovertemplate": "<b>%{hovertext}</b><br><br>lat=%{lat}<br>lon=%{lon}",
         "hovertext": [
          "Weimar",
          "Frankfurt",
          "Mettlach",
          "Lindenfels",
          "Frankfurt",
          "Berlin",
          "Bad Münster am Stein-Ebernburg",
          "Klosterneuburg",
          "Kronberg im Taunus",
          "Düsseldorf",
          "Frankfurt",
          "Utrecht",
          "Seeshaupt",
          "Frankfurt",
          "Frankfurt",
          "Rome",
          "Frankfurt",
          "Stuttgart",
          "Frankfurt",
          "Frankfurt",
          "Frankfurt",
          "Chemnitz",
          "Frankfurt",
          "Frankfurt",
          "Hamburg",
          "Vienna",
          "Frankfurt",
          "Frankfurt",
          "Potsdam",
          "Frankfurt",
          "Aschaffenburg",
          "Bad Nauheim",
          "Kronberg im Taunus",
          "Rome",
          "Frankfurt",
          "Albano Laziale",
          "Frankfurt",
          "Bad Soden",
          "Amsterdam",
          "Frankfurt",
          "Munich",
          "Frankfurt",
          "Kronberg im Taunus",
          "Kronberg im Taunus",
          "Cologne",
          "Heiden",
          "Nuremberg",
          "Frankfurt",
          "Nuremberg",
          "London",
          "Eberbach",
          "Lombardy",
          "Bellinzona",
          "Munich",
          "Frankfurt",
          "Loviisa",
          "Frankfurt",
          "Frankfurt",
          "Genoa",
          "Göppingen",
          "Frankfurt",
          "Karlsruhe",
          "Genoa",
          "Basel",
          "Frankfurt",
          "Munich",
          "Berlin",
          "Kassel",
          "Weimar",
          "Dresden",
          "Frankfurt",
          "Frankfurt",
          "Frankfurt",
          "Merano",
          "New York City",
          "Smolensk",
          "Schömberg",
          "Neuilly-sur-Seine",
          "Dresden",
          "Frankfurt",
          "London",
          "Suriname",
          "Munich",
          "Frankfurt",
          "Munich",
          "Hanover",
          "Munich",
          "Russia",
          "Frankfurt",
          "Frankfurt",
          "Düsseldorf",
          "Frankfurt",
          "Frankfurt",
          "Berlin",
          "Stockholm",
          "Asmundtorp",
          "Munich",
          "London",
          "New York City",
          "Frankfurt",
          "Frankfurt",
          "Monaco",
          "Frankfurt",
          "Mainz",
          "Dachau",
          "Frankfurt",
          "Frankfurt",
          "Mannheim",
          "Frankfurt",
          "Frankfurt",
          "Frankfurt",
          "Theresienstadt concentration camp",
          "Munich",
          "Frankfurt",
          "Rome",
          "Frankfurt",
          "Sydney",
          "Frankfurt",
          "Paris",
          "Amsterdam",
          "Lugano",
          "Munich",
          "Frankfurt",
          "Frankfurt",
          "Frankfurt",
          "Frankfurt",
          "Basel",
          "Frankfurt",
          "Frankfurt",
          "Soest",
          "Vienna",
          "Frankfurt",
          "Heidelberg",
          "Frankfurt",
          "Gräfelfing",
          "Bern",
          "Frankfurt",
          "Ingelheim am Rhein",
          "Groningen",
          "Munich",
          "Frankfurt",
          "Oakland",
          "Bern",
          "Paris",
          "Frankfurt",
          "Heilbronn",
          "Berlin",
          "Vienna",
          "London",
          "Vienna",
          "Frankfurt",
          "Fontainebleau",
          "Frankfurt",
          "Frankfurt",
          "Serbia",
          "Frankfurt",
          "London",
          "Frankfurt",
          "Frankfurt",
          "Frankfurt",
          "Frankfurt",
          "Frankfurt",
          "Munich",
          "Hanover",
          "Würzburg",
          "London",
          "Strasbourg",
          "Frankfurt",
          "Frankfurt",
          "Frankfurt",
          "Frankfurt",
          "Frankfurt",
          "Brunswick",
          "New York City",
          "Berlin",
          "Geneva",
          "Frankfurt",
          "Frankfurt",
          "Berlin",
          "Frankfurt",
          "Innsbruck",
          "Cesenatico",
          "Frankfurt",
          "Frankfurt",
          "Mainz",
          "Munich"
         ],
         "lat": [
          "50.983333333",
          "50.113611111",
          "49.5",
          "49.684861111",
          "50.113611111",
          "52.516666666",
          "49.8092",
          "48.304166666",
          "50.179652777",
          "51.231144444",
          "50.113611111",
          "52.088888888",
          "47.8244",
          "50.113611111",
          "50.113611111",
          "41.893055555",
          "50.113611111",
          "48.776111111",
          "50.113611111",
          "50.113611111",
          "50.113611111",
          "50.833333333",
          "50.113611111",
          "50.113611111",
          "53.55",
          "48.20833",
          "50.113611111",
          "50.113611111",
          "52.4",
          "50.113611111",
          "49.966666666",
          "50.3667",
          "50.179652777",
          "41.893055555",
          "50.113611111",
          "41.733333333",
          "50.113611111",
          "50.142430555",
          "52.383333333",
          "50.113611111",
          "48.137194444",
          "50.113611111",
          "50.179652777",
          "50.179652777",
          "50.942222222",
          "47.441111111",
          "49.452777777",
          "50.113611111",
          "49.452777777",
          "51.507222222",
          "49.466666666",
          "45.65",
          "46.195555",
          "48.137194444",
          "50.113611111",
          "60.4569",
          "50.113611111",
          "50.113611111",
          "44.407186111",
          "48.7025",
          "50.113611111",
          "49.016666666",
          "44.407186111",
          "47.560555555",
          "50.113611111",
          "48.137194444",
          "52.516666666",
          "51.315777777",
          "50.983333333",
          "51.049258333",
          "50.113611111",
          "50.113611111",
          "50.113611111",
          "46.668888888",
          "40.67",
          "54.782777777",
          "48.786666666",
          "48.887222222",
          "51.049258333",
          "50.113611111",
          "51.507222222",
          "4.0",
          "48.137194444",
          "50.113611111",
          "48.137194444",
          "52.374444444",
          "48.137194444",
          "62.0",
          "50.113611111",
          "50.113611111",
          "51.231144444",
          "50.113611111",
          "50.113611111",
          "52.516666666",
          "59.329444444",
          "55.885579506",
          "48.137194444",
          "51.507222222",
          "40.67",
          "50.113611111",
          "50.113611111",
          "43.733333333",
          "50.113611111",
          "50.0",
          "48.260277777",
          "50.113611111",
          "50.113611111",
          "49.483611111",
          "50.113611111",
          "50.113611111",
          "50.113611111",
          "50.510278",
          "48.137194444",
          "50.113611111",
          "41.893055555",
          "50.113611111",
          "-33.866666666",
          "50.113611111",
          "48.856944444",
          "52.383333333",
          "46.010277777",
          "48.137194444",
          "50.113611111",
          "50.113611111",
          "50.113611111",
          "50.113611111",
          "47.560555555",
          "50.113611111",
          "50.113611111",
          "51.571111111",
          "48.20833",
          "50.113611111",
          "49.412222222",
          "50.113611111",
          "48.118888888",
          "46.94798",
          "50.113611111",
          "49.974722222",
          "53.216666666",
          "48.137194444",
          "50.113611111",
          "37.8",
          "46.94798",
          "48.856944444",
          "50.113611111",
          "49.140428",
          "52.516666666",
          "48.20833",
          "51.507222222",
          "48.20833",
          "50.113611111",
          "48.408888888",
          "50.113611111",
          "50.113611111",
          "43.95",
          "50.113611111",
          "51.507222222",
          "50.113611111",
          "50.113611111",
          "50.113611111",
          "50.113611111",
          "50.113611111",
          "48.137194444",
          "52.374444444",
          "49.794444444",
          "51.507222222",
          "48.573333333",
          "50.113611111",
          "50.113611111",
          "50.113611111",
          "50.113611111",
          "50.113611111",
          "52.269166666",
          "40.67",
          "52.516666666",
          "46.2",
          "50.113611111",
          "50.113611111",
          "52.516666666",
          "50.113611111",
          "47.268333333",
          "44.2012",
          "50.113611111",
          "50.113611111",
          "50.0",
          "48.137194444"
         ],
         "legendgroup": "",
         "lon": [
          "11.316666666",
          "8.679722222",
          "6.583333333",
          "8.780277777",
          "8.679722222",
          "13.383333333",
          "7.8439",
          "16.316666666",
          "8.508541666",
          "6.772380555",
          "8.679722222",
          "5.115555555",
          "11.3008",
          "8.679722222",
          "8.679722222",
          "12.482777777",
          "8.679722222",
          "9.1775",
          "8.679722222",
          "8.679722222",
          "8.679722222",
          "12.916666666",
          "8.679722222",
          "8.679722222",
          "10.0",
          "16.373064",
          "8.679722222",
          "8.679722222",
          "13.066666666",
          "8.679722222",
          "9.15",
          "8.75",
          "8.508541666",
          "12.482777777",
          "8.679722222",
          "12.666666666",
          "8.679722222",
          "8.499722222",
          "4.9",
          "8.679722222",
          "11.5755",
          "8.679722222",
          "8.508541666",
          "8.508541666",
          "6.957777777",
          "9.531111111",
          "11.077777777",
          "8.679722222",
          "11.077777777",
          "-0.1275",
          "8.983333333",
          "9.95",
          "9.023809",
          "11.5755",
          "8.679722222",
          "26.225",
          "8.679722222",
          "8.679722222",
          "8.933983333",
          "9.652777777",
          "8.679722222",
          "8.4",
          "8.933983333",
          "7.590555555",
          "8.679722222",
          "11.5755",
          "13.383333333",
          "9.497916666",
          "11.316666666",
          "13.738361111",
          "8.679722222",
          "8.679722222",
          "8.679722222",
          "11.163888888",
          "-73.94",
          "32.045277777",
          "8.644166666",
          "2.2675",
          "13.738361111",
          "8.679722222",
          "-0.1275",
          "-56.0",
          "11.5755",
          "8.679722222",
          "11.5755",
          "9.738611111",
          "11.5755",
          "100.0",
          "8.679722222",
          "8.679722222",
          "6.772380555",
          "8.679722222",
          "8.679722222",
          "13.383333333",
          "18.068611111",
          "12.948680424",
          "11.5755",
          "-0.1275",
          "-73.94",
          "8.679722222",
          "8.679722222",
          "7.416666666",
          "8.679722222",
          "8.266666666",
          "11.434166666",
          "8.679722222",
          "8.679722222",
          "8.463055555",
          "8.679722222",
          "8.679722222",
          "8.679722222",
          "14.149722",
          "11.5755",
          "8.679722222",
          "12.482777777",
          "8.679722222",
          "151.2",
          "8.679722222",
          "2.351388888",
          "4.9",
          "8.9625",
          "11.5755",
          "8.679722222",
          "8.679722222",
          "8.679722222",
          "8.679722222",
          "7.590555555",
          "8.679722222",
          "8.679722222",
          "8.109166666",
          "16.373064",
          "8.679722222",
          "8.71",
          "8.679722222",
          "11.428888888",
          "7.44743",
          "8.679722222",
          "8.056388888",
          "6.55",
          "11.5755",
          "8.679722222",
          "-122.25",
          "7.44743",
          "2.351388888",
          "8.679722222",
          "9.217953",
          "13.383333333",
          "16.373064",
          "-0.1275",
          "16.373064",
          "8.679722222",
          "2.701666666",
          "8.679722222",
          "8.679722222",
          "20.933333333",
          "8.679722222",
          "-0.1275",
          "8.679722222",
          "8.679722222",
          "8.679722222",
          "8.679722222",
          "8.679722222",
          "11.5755",
          "9.738611111",
          "9.929444444",
          "-0.1275",
          "7.752222222",
          "8.679722222",
          "8.679722222",
          "8.679722222",
          "8.679722222",
          "8.679722222",
          "10.521111111",
          "-73.94",
          "13.383333333",
          "6.15",
          "8.679722222",
          "8.679722222",
          "13.383333333",
          "8.679722222",
          "11.393333333",
          "12.4007",
          "8.679722222",
          "8.679722222",
          "8.266666666",
          "11.5755"
         ],
         "marker": {
          "color": "#636efa"
         },
         "name": "",
         "showlegend": false,
         "type": "scattergeo"
        }
       ],
       "layout": {
        "geo": {
         "center": {},
         "domain": {
          "x": [
           0,
           1
          ],
          "y": [
           0,
           1
          ]
         }
        },
        "height": 600,
        "legend": {
         "tracegroupgap": 0
        },
        "margin": {
         "t": 60
        },
        "template": {
         "data": {
          "bar": [
           {
            "error_x": {
             "color": "#2a3f5f"
            },
            "error_y": {
             "color": "#2a3f5f"
            },
            "marker": {
             "line": {
              "color": "#E5ECF6",
              "width": 0.5
             }
            },
            "type": "bar"
           }
          ],
          "barpolar": [
           {
            "marker": {
             "line": {
              "color": "#E5ECF6",
              "width": 0.5
             }
            },
            "type": "barpolar"
           }
          ],
          "carpet": [
           {
            "aaxis": {
             "endlinecolor": "#2a3f5f",
             "gridcolor": "white",
             "linecolor": "white",
             "minorgridcolor": "white",
             "startlinecolor": "#2a3f5f"
            },
            "baxis": {
             "endlinecolor": "#2a3f5f",
             "gridcolor": "white",
             "linecolor": "white",
             "minorgridcolor": "white",
             "startlinecolor": "#2a3f5f"
            },
            "type": "carpet"
           }
          ],
          "choropleth": [
           {
            "colorbar": {
             "outlinewidth": 0,
             "ticks": ""
            },
            "type": "choropleth"
           }
          ],
          "contour": [
           {
            "colorbar": {
             "outlinewidth": 0,
             "ticks": ""
            },
            "colorscale": [
             [
              0,
              "#0d0887"
             ],
             [
              0.1111111111111111,
              "#46039f"
             ],
             [
              0.2222222222222222,
              "#7201a8"
             ],
             [
              0.3333333333333333,
              "#9c179e"
             ],
             [
              0.4444444444444444,
              "#bd3786"
             ],
             [
              0.5555555555555556,
              "#d8576b"
             ],
             [
              0.6666666666666666,
              "#ed7953"
             ],
             [
              0.7777777777777778,
              "#fb9f3a"
             ],
             [
              0.8888888888888888,
              "#fdca26"
             ],
             [
              1,
              "#f0f921"
             ]
            ],
            "type": "contour"
           }
          ],
          "contourcarpet": [
           {
            "colorbar": {
             "outlinewidth": 0,
             "ticks": ""
            },
            "type": "contourcarpet"
           }
          ],
          "heatmap": [
           {
            "colorbar": {
             "outlinewidth": 0,
             "ticks": ""
            },
            "colorscale": [
             [
              0,
              "#0d0887"
             ],
             [
              0.1111111111111111,
              "#46039f"
             ],
             [
              0.2222222222222222,
              "#7201a8"
             ],
             [
              0.3333333333333333,
              "#9c179e"
             ],
             [
              0.4444444444444444,
              "#bd3786"
             ],
             [
              0.5555555555555556,
              "#d8576b"
             ],
             [
              0.6666666666666666,
              "#ed7953"
             ],
             [
              0.7777777777777778,
              "#fb9f3a"
             ],
             [
              0.8888888888888888,
              "#fdca26"
             ],
             [
              1,
              "#f0f921"
             ]
            ],
            "type": "heatmap"
           }
          ],
          "heatmapgl": [
           {
            "colorbar": {
             "outlinewidth": 0,
             "ticks": ""
            },
            "colorscale": [
             [
              0,
              "#0d0887"
             ],
             [
              0.1111111111111111,
              "#46039f"
             ],
             [
              0.2222222222222222,
              "#7201a8"
             ],
             [
              0.3333333333333333,
              "#9c179e"
             ],
             [
              0.4444444444444444,
              "#bd3786"
             ],
             [
              0.5555555555555556,
              "#d8576b"
             ],
             [
              0.6666666666666666,
              "#ed7953"
             ],
             [
              0.7777777777777778,
              "#fb9f3a"
             ],
             [
              0.8888888888888888,
              "#fdca26"
             ],
             [
              1,
              "#f0f921"
             ]
            ],
            "type": "heatmapgl"
           }
          ],
          "histogram": [
           {
            "marker": {
             "colorbar": {
              "outlinewidth": 0,
              "ticks": ""
             }
            },
            "type": "histogram"
           }
          ],
          "histogram2d": [
           {
            "colorbar": {
             "outlinewidth": 0,
             "ticks": ""
            },
            "colorscale": [
             [
              0,
              "#0d0887"
             ],
             [
              0.1111111111111111,
              "#46039f"
             ],
             [
              0.2222222222222222,
              "#7201a8"
             ],
             [
              0.3333333333333333,
              "#9c179e"
             ],
             [
              0.4444444444444444,
              "#bd3786"
             ],
             [
              0.5555555555555556,
              "#d8576b"
             ],
             [
              0.6666666666666666,
              "#ed7953"
             ],
             [
              0.7777777777777778,
              "#fb9f3a"
             ],
             [
              0.8888888888888888,
              "#fdca26"
             ],
             [
              1,
              "#f0f921"
             ]
            ],
            "type": "histogram2d"
           }
          ],
          "histogram2dcontour": [
           {
            "colorbar": {
             "outlinewidth": 0,
             "ticks": ""
            },
            "colorscale": [
             [
              0,
              "#0d0887"
             ],
             [
              0.1111111111111111,
              "#46039f"
             ],
             [
              0.2222222222222222,
              "#7201a8"
             ],
             [
              0.3333333333333333,
              "#9c179e"
             ],
             [
              0.4444444444444444,
              "#bd3786"
             ],
             [
              0.5555555555555556,
              "#d8576b"
             ],
             [
              0.6666666666666666,
              "#ed7953"
             ],
             [
              0.7777777777777778,
              "#fb9f3a"
             ],
             [
              0.8888888888888888,
              "#fdca26"
             ],
             [
              1,
              "#f0f921"
             ]
            ],
            "type": "histogram2dcontour"
           }
          ],
          "mesh3d": [
           {
            "colorbar": {
             "outlinewidth": 0,
             "ticks": ""
            },
            "type": "mesh3d"
           }
          ],
          "parcoords": [
           {
            "line": {
             "colorbar": {
              "outlinewidth": 0,
              "ticks": ""
             }
            },
            "type": "parcoords"
           }
          ],
          "pie": [
           {
            "automargin": true,
            "type": "pie"
           }
          ],
          "scatter": [
           {
            "marker": {
             "colorbar": {
              "outlinewidth": 0,
              "ticks": ""
             }
            },
            "type": "scatter"
           }
          ],
          "scatter3d": [
           {
            "line": {
             "colorbar": {
              "outlinewidth": 0,
              "ticks": ""
             }
            },
            "marker": {
             "colorbar": {
              "outlinewidth": 0,
              "ticks": ""
             }
            },
            "type": "scatter3d"
           }
          ],
          "scattercarpet": [
           {
            "marker": {
             "colorbar": {
              "outlinewidth": 0,
              "ticks": ""
             }
            },
            "type": "scattercarpet"
           }
          ],
          "scattergeo": [
           {
            "marker": {
             "colorbar": {
              "outlinewidth": 0,
              "ticks": ""
             }
            },
            "type": "scattergeo"
           }
          ],
          "scattergl": [
           {
            "marker": {
             "colorbar": {
              "outlinewidth": 0,
              "ticks": ""
             }
            },
            "type": "scattergl"
           }
          ],
          "scattermapbox": [
           {
            "marker": {
             "colorbar": {
              "outlinewidth": 0,
              "ticks": ""
             }
            },
            "type": "scattermapbox"
           }
          ],
          "scatterpolar": [
           {
            "marker": {
             "colorbar": {
              "outlinewidth": 0,
              "ticks": ""
             }
            },
            "type": "scatterpolar"
           }
          ],
          "scatterpolargl": [
           {
            "marker": {
             "colorbar": {
              "outlinewidth": 0,
              "ticks": ""
             }
            },
            "type": "scatterpolargl"
           }
          ],
          "scatterternary": [
           {
            "marker": {
             "colorbar": {
              "outlinewidth": 0,
              "ticks": ""
             }
            },
            "type": "scatterternary"
           }
          ],
          "surface": [
           {
            "colorbar": {
             "outlinewidth": 0,
             "ticks": ""
            },
            "colorscale": [
             [
              0,
              "#0d0887"
             ],
             [
              0.1111111111111111,
              "#46039f"
             ],
             [
              0.2222222222222222,
              "#7201a8"
             ],
             [
              0.3333333333333333,
              "#9c179e"
             ],
             [
              0.4444444444444444,
              "#bd3786"
             ],
             [
              0.5555555555555556,
              "#d8576b"
             ],
             [
              0.6666666666666666,
              "#ed7953"
             ],
             [
              0.7777777777777778,
              "#fb9f3a"
             ],
             [
              0.8888888888888888,
              "#fdca26"
             ],
             [
              1,
              "#f0f921"
             ]
            ],
            "type": "surface"
           }
          ],
          "table": [
           {
            "cells": {
             "fill": {
              "color": "#EBF0F8"
             },
             "line": {
              "color": "white"
             }
            },
            "header": {
             "fill": {
              "color": "#C8D4E3"
             },
             "line": {
              "color": "white"
             }
            },
            "type": "table"
           }
          ]
         },
         "layout": {
          "annotationdefaults": {
           "arrowcolor": "#2a3f5f",
           "arrowhead": 0,
           "arrowwidth": 1
          },
          "coloraxis": {
           "colorbar": {
            "outlinewidth": 0,
            "ticks": ""
           }
          },
          "colorscale": {
           "diverging": [
            [
             0,
             "#8e0152"
            ],
            [
             0.1,
             "#c51b7d"
            ],
            [
             0.2,
             "#de77ae"
            ],
            [
             0.3,
             "#f1b6da"
            ],
            [
             0.4,
             "#fde0ef"
            ],
            [
             0.5,
             "#f7f7f7"
            ],
            [
             0.6,
             "#e6f5d0"
            ],
            [
             0.7,
             "#b8e186"
            ],
            [
             0.8,
             "#7fbc41"
            ],
            [
             0.9,
             "#4d9221"
            ],
            [
             1,
             "#276419"
            ]
           ],
           "sequential": [
            [
             0,
             "#0d0887"
            ],
            [
             0.1111111111111111,
             "#46039f"
            ],
            [
             0.2222222222222222,
             "#7201a8"
            ],
            [
             0.3333333333333333,
             "#9c179e"
            ],
            [
             0.4444444444444444,
             "#bd3786"
            ],
            [
             0.5555555555555556,
             "#d8576b"
            ],
            [
             0.6666666666666666,
             "#ed7953"
            ],
            [
             0.7777777777777778,
             "#fb9f3a"
            ],
            [
             0.8888888888888888,
             "#fdca26"
            ],
            [
             1,
             "#f0f921"
            ]
           ],
           "sequentialminus": [
            [
             0,
             "#0d0887"
            ],
            [
             0.1111111111111111,
             "#46039f"
            ],
            [
             0.2222222222222222,
             "#7201a8"
            ],
            [
             0.3333333333333333,
             "#9c179e"
            ],
            [
             0.4444444444444444,
             "#bd3786"
            ],
            [
             0.5555555555555556,
             "#d8576b"
            ],
            [
             0.6666666666666666,
             "#ed7953"
            ],
            [
             0.7777777777777778,
             "#fb9f3a"
            ],
            [
             0.8888888888888888,
             "#fdca26"
            ],
            [
             1,
             "#f0f921"
            ]
           ]
          },
          "colorway": [
           "#636efa",
           "#EF553B",
           "#00cc96",
           "#ab63fa",
           "#FFA15A",
           "#19d3f3",
           "#FF6692",
           "#B6E880",
           "#FF97FF",
           "#FECB52"
          ],
          "font": {
           "color": "#2a3f5f"
          },
          "geo": {
           "bgcolor": "white",
           "lakecolor": "white",
           "landcolor": "#E5ECF6",
           "showlakes": true,
           "showland": true,
           "subunitcolor": "white"
          },
          "hoverlabel": {
           "align": "left"
          },
          "hovermode": "closest",
          "mapbox": {
           "style": "light"
          },
          "paper_bgcolor": "white",
          "plot_bgcolor": "#E5ECF6",
          "polar": {
           "angularaxis": {
            "gridcolor": "white",
            "linecolor": "white",
            "ticks": ""
           },
           "bgcolor": "#E5ECF6",
           "radialaxis": {
            "gridcolor": "white",
            "linecolor": "white",
            "ticks": ""
           }
          },
          "scene": {
           "xaxis": {
            "backgroundcolor": "#E5ECF6",
            "gridcolor": "white",
            "gridwidth": 2,
            "linecolor": "white",
            "showbackground": true,
            "ticks": "",
            "zerolinecolor": "white"
           },
           "yaxis": {
            "backgroundcolor": "#E5ECF6",
            "gridcolor": "white",
            "gridwidth": 2,
            "linecolor": "white",
            "showbackground": true,
            "ticks": "",
            "zerolinecolor": "white"
           },
           "zaxis": {
            "backgroundcolor": "#E5ECF6",
            "gridcolor": "white",
            "gridwidth": 2,
            "linecolor": "white",
            "showbackground": true,
            "ticks": "",
            "zerolinecolor": "white"
           }
          },
          "shapedefaults": {
           "line": {
            "color": "#2a3f5f"
           }
          },
          "ternary": {
           "aaxis": {
            "gridcolor": "white",
            "linecolor": "white",
            "ticks": ""
           },
           "baxis": {
            "gridcolor": "white",
            "linecolor": "white",
            "ticks": ""
           },
           "bgcolor": "#E5ECF6",
           "caxis": {
            "gridcolor": "white",
            "linecolor": "white",
            "ticks": ""
           }
          },
          "title": {
           "x": 0.05
          },
          "xaxis": {
           "automargin": true,
           "gridcolor": "white",
           "linecolor": "white",
           "ticks": "",
           "title": {
            "standoff": 15
           },
           "zerolinecolor": "white",
           "zerolinewidth": 2
          },
          "yaxis": {
           "automargin": true,
           "gridcolor": "white",
           "linecolor": "white",
           "ticks": "",
           "title": {
            "standoff": 15
           },
           "zerolinecolor": "white",
           "zerolinewidth": 2
          }
         }
        }
       }
      },
      "text/html": [
       "<div>\n",
       "        \n",
       "        \n",
       "            <div id=\"7485e700-28fb-4d83-9b2d-accae3613a27\" class=\"plotly-graph-div\" style=\"height:600px; width:100%;\"></div>\n",
       "            <script type=\"text/javascript\">\n",
       "                require([\"plotly\"], function(Plotly) {\n",
       "                    window.PLOTLYENV=window.PLOTLYENV || {};\n",
       "                    \n",
       "                if (document.getElementById(\"7485e700-28fb-4d83-9b2d-accae3613a27\")) {\n",
       "                    Plotly.newPlot(\n",
       "                        '7485e700-28fb-4d83-9b2d-accae3613a27',\n",
       "                        [{\"geo\": \"geo\", \"hoverlabel\": {\"namelength\": 0}, \"hovertemplate\": \"<b>%{hovertext}</b><br><br>lat=%{lat}<br>lon=%{lon}\", \"hovertext\": [\"Weimar\", \"Frankfurt\", \"Mettlach\", \"Lindenfels\", \"Frankfurt\", \"Berlin\", \"Bad M\\u00fcnster am Stein-Ebernburg\", \"Klosterneuburg\", \"Kronberg im Taunus\", \"D\\u00fcsseldorf\", \"Frankfurt\", \"Utrecht\", \"Seeshaupt\", \"Frankfurt\", \"Frankfurt\", \"Rome\", \"Frankfurt\", \"Stuttgart\", \"Frankfurt\", \"Frankfurt\", \"Frankfurt\", \"Chemnitz\", \"Frankfurt\", \"Frankfurt\", \"Hamburg\", \"Vienna\", \"Frankfurt\", \"Frankfurt\", \"Potsdam\", \"Frankfurt\", \"Aschaffenburg\", \"Bad Nauheim\", \"Kronberg im Taunus\", \"Rome\", \"Frankfurt\", \"Albano Laziale\", \"Frankfurt\", \"Bad Soden\", \"Amsterdam\", \"Frankfurt\", \"Munich\", \"Frankfurt\", \"Kronberg im Taunus\", \"Kronberg im Taunus\", \"Cologne\", \"Heiden\", \"Nuremberg\", \"Frankfurt\", \"Nuremberg\", \"London\", \"Eberbach\", \"Lombardy\", \"Bellinzona\", \"Munich\", \"Frankfurt\", \"Loviisa\", \"Frankfurt\", \"Frankfurt\", \"Genoa\", \"G\\u00f6ppingen\", \"Frankfurt\", \"Karlsruhe\", \"Genoa\", \"Basel\", \"Frankfurt\", \"Munich\", \"Berlin\", \"Kassel\", \"Weimar\", \"Dresden\", \"Frankfurt\", \"Frankfurt\", \"Frankfurt\", \"Merano\", \"New York City\", \"Smolensk\", \"Sch\\u00f6mberg\", \"Neuilly-sur-Seine\", \"Dresden\", \"Frankfurt\", \"London\", \"Suriname\", \"Munich\", \"Frankfurt\", \"Munich\", \"Hanover\", \"Munich\", \"Russia\", \"Frankfurt\", \"Frankfurt\", \"D\\u00fcsseldorf\", \"Frankfurt\", \"Frankfurt\", \"Berlin\", \"Stockholm\", \"Asmundtorp\", \"Munich\", \"London\", \"New York City\", \"Frankfurt\", \"Frankfurt\", \"Monaco\", \"Frankfurt\", \"Mainz\", \"Dachau\", \"Frankfurt\", \"Frankfurt\", \"Mannheim\", \"Frankfurt\", \"Frankfurt\", \"Frankfurt\", \"Theresienstadt concentration camp\", \"Munich\", \"Frankfurt\", \"Rome\", \"Frankfurt\", \"Sydney\", \"Frankfurt\", \"Paris\", \"Amsterdam\", \"Lugano\", \"Munich\", \"Frankfurt\", \"Frankfurt\", \"Frankfurt\", \"Frankfurt\", \"Basel\", \"Frankfurt\", \"Frankfurt\", \"Soest\", \"Vienna\", \"Frankfurt\", \"Heidelberg\", \"Frankfurt\", \"Gr\\u00e4felfing\", \"Bern\", \"Frankfurt\", \"Ingelheim am Rhein\", \"Groningen\", \"Munich\", \"Frankfurt\", \"Oakland\", \"Bern\", \"Paris\", \"Frankfurt\", \"Heilbronn\", \"Berlin\", \"Vienna\", \"London\", \"Vienna\", \"Frankfurt\", \"Fontainebleau\", \"Frankfurt\", \"Frankfurt\", \"Serbia\", \"Frankfurt\", \"London\", \"Frankfurt\", \"Frankfurt\", \"Frankfurt\", \"Frankfurt\", \"Frankfurt\", \"Munich\", \"Hanover\", \"W\\u00fcrzburg\", \"London\", \"Strasbourg\", \"Frankfurt\", \"Frankfurt\", \"Frankfurt\", \"Frankfurt\", \"Frankfurt\", \"Brunswick\", \"New York City\", \"Berlin\", \"Geneva\", \"Frankfurt\", \"Frankfurt\", \"Berlin\", \"Frankfurt\", \"Innsbruck\", \"Cesenatico\", \"Frankfurt\", \"Frankfurt\", \"Mainz\", \"Munich\"], \"lat\": [\"50.983333333\", \"50.113611111\", \"49.5\", \"49.684861111\", \"50.113611111\", \"52.516666666\", \"49.8092\", \"48.304166666\", \"50.179652777\", \"51.231144444\", \"50.113611111\", \"52.088888888\", \"47.8244\", \"50.113611111\", \"50.113611111\", \"41.893055555\", \"50.113611111\", \"48.776111111\", \"50.113611111\", \"50.113611111\", \"50.113611111\", \"50.833333333\", \"50.113611111\", \"50.113611111\", \"53.55\", \"48.20833\", \"50.113611111\", \"50.113611111\", \"52.4\", \"50.113611111\", \"49.966666666\", \"50.3667\", \"50.179652777\", \"41.893055555\", \"50.113611111\", \"41.733333333\", \"50.113611111\", \"50.142430555\", \"52.383333333\", \"50.113611111\", \"48.137194444\", \"50.113611111\", \"50.179652777\", \"50.179652777\", \"50.942222222\", \"47.441111111\", \"49.452777777\", \"50.113611111\", \"49.452777777\", \"51.507222222\", \"49.466666666\", \"45.65\", \"46.195555\", \"48.137194444\", \"50.113611111\", \"60.4569\", \"50.113611111\", \"50.113611111\", \"44.407186111\", \"48.7025\", \"50.113611111\", \"49.016666666\", \"44.407186111\", \"47.560555555\", \"50.113611111\", \"48.137194444\", \"52.516666666\", \"51.315777777\", \"50.983333333\", \"51.049258333\", \"50.113611111\", \"50.113611111\", \"50.113611111\", \"46.668888888\", \"40.67\", \"54.782777777\", \"48.786666666\", \"48.887222222\", \"51.049258333\", \"50.113611111\", \"51.507222222\", \"4.0\", \"48.137194444\", \"50.113611111\", \"48.137194444\", \"52.374444444\", \"48.137194444\", \"62.0\", \"50.113611111\", \"50.113611111\", \"51.231144444\", \"50.113611111\", \"50.113611111\", \"52.516666666\", \"59.329444444\", \"55.885579506\", \"48.137194444\", \"51.507222222\", \"40.67\", \"50.113611111\", \"50.113611111\", \"43.733333333\", \"50.113611111\", \"50.0\", \"48.260277777\", \"50.113611111\", \"50.113611111\", \"49.483611111\", \"50.113611111\", \"50.113611111\", \"50.113611111\", \"50.510278\", \"48.137194444\", \"50.113611111\", \"41.893055555\", \"50.113611111\", \"-33.866666666\", \"50.113611111\", \"48.856944444\", \"52.383333333\", \"46.010277777\", \"48.137194444\", \"50.113611111\", \"50.113611111\", \"50.113611111\", \"50.113611111\", \"47.560555555\", \"50.113611111\", \"50.113611111\", \"51.571111111\", \"48.20833\", \"50.113611111\", \"49.412222222\", \"50.113611111\", \"48.118888888\", \"46.94798\", \"50.113611111\", \"49.974722222\", \"53.216666666\", \"48.137194444\", \"50.113611111\", \"37.8\", \"46.94798\", \"48.856944444\", \"50.113611111\", \"49.140428\", \"52.516666666\", \"48.20833\", \"51.507222222\", \"48.20833\", \"50.113611111\", \"48.408888888\", \"50.113611111\", \"50.113611111\", \"43.95\", \"50.113611111\", \"51.507222222\", \"50.113611111\", \"50.113611111\", \"50.113611111\", \"50.113611111\", \"50.113611111\", \"48.137194444\", \"52.374444444\", \"49.794444444\", \"51.507222222\", \"48.573333333\", \"50.113611111\", \"50.113611111\", \"50.113611111\", \"50.113611111\", \"50.113611111\", \"52.269166666\", \"40.67\", \"52.516666666\", \"46.2\", \"50.113611111\", \"50.113611111\", \"52.516666666\", \"50.113611111\", \"47.268333333\", \"44.2012\", \"50.113611111\", \"50.113611111\", \"50.0\", \"48.137194444\"], \"legendgroup\": \"\", \"lon\": [\"11.316666666\", \"8.679722222\", \"6.583333333\", \"8.780277777\", \"8.679722222\", \"13.383333333\", \"7.8439\", \"16.316666666\", \"8.508541666\", \"6.772380555\", \"8.679722222\", \"5.115555555\", \"11.3008\", \"8.679722222\", \"8.679722222\", \"12.482777777\", \"8.679722222\", \"9.1775\", \"8.679722222\", \"8.679722222\", \"8.679722222\", \"12.916666666\", \"8.679722222\", \"8.679722222\", \"10.0\", \"16.373064\", \"8.679722222\", \"8.679722222\", \"13.066666666\", \"8.679722222\", \"9.15\", \"8.75\", \"8.508541666\", \"12.482777777\", \"8.679722222\", \"12.666666666\", \"8.679722222\", \"8.499722222\", \"4.9\", \"8.679722222\", \"11.5755\", \"8.679722222\", \"8.508541666\", \"8.508541666\", \"6.957777777\", \"9.531111111\", \"11.077777777\", \"8.679722222\", \"11.077777777\", \"-0.1275\", \"8.983333333\", \"9.95\", \"9.023809\", \"11.5755\", \"8.679722222\", \"26.225\", \"8.679722222\", \"8.679722222\", \"8.933983333\", \"9.652777777\", \"8.679722222\", \"8.4\", \"8.933983333\", \"7.590555555\", \"8.679722222\", \"11.5755\", \"13.383333333\", \"9.497916666\", \"11.316666666\", \"13.738361111\", \"8.679722222\", \"8.679722222\", \"8.679722222\", \"11.163888888\", \"-73.94\", \"32.045277777\", \"8.644166666\", \"2.2675\", \"13.738361111\", \"8.679722222\", \"-0.1275\", \"-56.0\", \"11.5755\", \"8.679722222\", \"11.5755\", \"9.738611111\", \"11.5755\", \"100.0\", \"8.679722222\", \"8.679722222\", \"6.772380555\", \"8.679722222\", \"8.679722222\", \"13.383333333\", \"18.068611111\", \"12.948680424\", \"11.5755\", \"-0.1275\", \"-73.94\", \"8.679722222\", \"8.679722222\", \"7.416666666\", \"8.679722222\", \"8.266666666\", \"11.434166666\", \"8.679722222\", \"8.679722222\", \"8.463055555\", \"8.679722222\", \"8.679722222\", \"8.679722222\", \"14.149722\", \"11.5755\", \"8.679722222\", \"12.482777777\", \"8.679722222\", \"151.2\", \"8.679722222\", \"2.351388888\", \"4.9\", \"8.9625\", \"11.5755\", \"8.679722222\", \"8.679722222\", \"8.679722222\", \"8.679722222\", \"7.590555555\", \"8.679722222\", \"8.679722222\", \"8.109166666\", \"16.373064\", \"8.679722222\", \"8.71\", \"8.679722222\", \"11.428888888\", \"7.44743\", \"8.679722222\", \"8.056388888\", \"6.55\", \"11.5755\", \"8.679722222\", \"-122.25\", \"7.44743\", \"2.351388888\", \"8.679722222\", \"9.217953\", \"13.383333333\", \"16.373064\", \"-0.1275\", \"16.373064\", \"8.679722222\", \"2.701666666\", \"8.679722222\", \"8.679722222\", \"20.933333333\", \"8.679722222\", \"-0.1275\", \"8.679722222\", \"8.679722222\", \"8.679722222\", \"8.679722222\", \"8.679722222\", \"11.5755\", \"9.738611111\", \"9.929444444\", \"-0.1275\", \"7.752222222\", \"8.679722222\", \"8.679722222\", \"8.679722222\", \"8.679722222\", \"8.679722222\", \"10.521111111\", \"-73.94\", \"13.383333333\", \"6.15\", \"8.679722222\", \"8.679722222\", \"13.383333333\", \"8.679722222\", \"11.393333333\", \"12.4007\", \"8.679722222\", \"8.679722222\", \"8.266666666\", \"11.5755\"], \"marker\": {\"color\": \"#636efa\"}, \"name\": \"\", \"showlegend\": false, \"type\": \"scattergeo\"}],\n",
       "                        {\"geo\": {\"center\": {}, \"domain\": {\"x\": [0.0, 1.0], \"y\": [0.0, 1.0]}}, \"height\": 600, \"legend\": {\"tracegroupgap\": 0}, \"margin\": {\"t\": 60}, \"template\": {\"data\": {\"bar\": [{\"error_x\": {\"color\": \"#2a3f5f\"}, \"error_y\": {\"color\": \"#2a3f5f\"}, \"marker\": {\"line\": {\"color\": \"#E5ECF6\", \"width\": 0.5}}, \"type\": \"bar\"}], \"barpolar\": [{\"marker\": {\"line\": {\"color\": \"#E5ECF6\", \"width\": 0.5}}, \"type\": \"barpolar\"}], \"carpet\": [{\"aaxis\": {\"endlinecolor\": \"#2a3f5f\", \"gridcolor\": \"white\", \"linecolor\": \"white\", \"minorgridcolor\": \"white\", \"startlinecolor\": \"#2a3f5f\"}, \"baxis\": {\"endlinecolor\": \"#2a3f5f\", \"gridcolor\": \"white\", \"linecolor\": \"white\", \"minorgridcolor\": \"white\", \"startlinecolor\": \"#2a3f5f\"}, \"type\": \"carpet\"}], \"choropleth\": [{\"colorbar\": {\"outlinewidth\": 0, \"ticks\": \"\"}, \"type\": \"choropleth\"}], \"contour\": [{\"colorbar\": {\"outlinewidth\": 0, \"ticks\": \"\"}, \"colorscale\": [[0.0, \"#0d0887\"], [0.1111111111111111, \"#46039f\"], [0.2222222222222222, \"#7201a8\"], [0.3333333333333333, \"#9c179e\"], [0.4444444444444444, \"#bd3786\"], [0.5555555555555556, \"#d8576b\"], [0.6666666666666666, \"#ed7953\"], [0.7777777777777778, \"#fb9f3a\"], [0.8888888888888888, \"#fdca26\"], [1.0, \"#f0f921\"]], \"type\": \"contour\"}], \"contourcarpet\": [{\"colorbar\": {\"outlinewidth\": 0, \"ticks\": \"\"}, \"type\": \"contourcarpet\"}], \"heatmap\": [{\"colorbar\": {\"outlinewidth\": 0, \"ticks\": \"\"}, \"colorscale\": [[0.0, \"#0d0887\"], [0.1111111111111111, \"#46039f\"], [0.2222222222222222, \"#7201a8\"], [0.3333333333333333, \"#9c179e\"], [0.4444444444444444, \"#bd3786\"], [0.5555555555555556, \"#d8576b\"], [0.6666666666666666, \"#ed7953\"], [0.7777777777777778, \"#fb9f3a\"], [0.8888888888888888, \"#fdca26\"], [1.0, \"#f0f921\"]], \"type\": \"heatmap\"}], \"heatmapgl\": [{\"colorbar\": {\"outlinewidth\": 0, \"ticks\": \"\"}, \"colorscale\": [[0.0, \"#0d0887\"], [0.1111111111111111, \"#46039f\"], [0.2222222222222222, \"#7201a8\"], [0.3333333333333333, \"#9c179e\"], [0.4444444444444444, \"#bd3786\"], [0.5555555555555556, \"#d8576b\"], [0.6666666666666666, \"#ed7953\"], [0.7777777777777778, \"#fb9f3a\"], [0.8888888888888888, \"#fdca26\"], [1.0, \"#f0f921\"]], \"type\": \"heatmapgl\"}], \"histogram\": [{\"marker\": {\"colorbar\": {\"outlinewidth\": 0, \"ticks\": \"\"}}, \"type\": \"histogram\"}], \"histogram2d\": [{\"colorbar\": {\"outlinewidth\": 0, \"ticks\": \"\"}, \"colorscale\": [[0.0, \"#0d0887\"], [0.1111111111111111, \"#46039f\"], [0.2222222222222222, \"#7201a8\"], [0.3333333333333333, \"#9c179e\"], [0.4444444444444444, \"#bd3786\"], [0.5555555555555556, \"#d8576b\"], [0.6666666666666666, \"#ed7953\"], [0.7777777777777778, \"#fb9f3a\"], [0.8888888888888888, \"#fdca26\"], [1.0, \"#f0f921\"]], \"type\": \"histogram2d\"}], \"histogram2dcontour\": [{\"colorbar\": {\"outlinewidth\": 0, \"ticks\": \"\"}, \"colorscale\": [[0.0, \"#0d0887\"], [0.1111111111111111, \"#46039f\"], [0.2222222222222222, \"#7201a8\"], [0.3333333333333333, \"#9c179e\"], [0.4444444444444444, \"#bd3786\"], [0.5555555555555556, \"#d8576b\"], [0.6666666666666666, \"#ed7953\"], [0.7777777777777778, \"#fb9f3a\"], [0.8888888888888888, \"#fdca26\"], [1.0, \"#f0f921\"]], \"type\": \"histogram2dcontour\"}], \"mesh3d\": [{\"colorbar\": {\"outlinewidth\": 0, \"ticks\": \"\"}, \"type\": \"mesh3d\"}], \"parcoords\": [{\"line\": {\"colorbar\": {\"outlinewidth\": 0, \"ticks\": \"\"}}, \"type\": \"parcoords\"}], \"pie\": [{\"automargin\": true, \"type\": \"pie\"}], \"scatter\": [{\"marker\": {\"colorbar\": {\"outlinewidth\": 0, \"ticks\": \"\"}}, \"type\": \"scatter\"}], \"scatter3d\": [{\"line\": {\"colorbar\": {\"outlinewidth\": 0, \"ticks\": \"\"}}, \"marker\": {\"colorbar\": {\"outlinewidth\": 0, \"ticks\": \"\"}}, \"type\": \"scatter3d\"}], \"scattercarpet\": [{\"marker\": {\"colorbar\": {\"outlinewidth\": 0, \"ticks\": \"\"}}, \"type\": \"scattercarpet\"}], \"scattergeo\": [{\"marker\": {\"colorbar\": {\"outlinewidth\": 0, \"ticks\": \"\"}}, \"type\": \"scattergeo\"}], \"scattergl\": [{\"marker\": {\"colorbar\": {\"outlinewidth\": 0, \"ticks\": \"\"}}, \"type\": \"scattergl\"}], \"scattermapbox\": [{\"marker\": {\"colorbar\": {\"outlinewidth\": 0, \"ticks\": \"\"}}, \"type\": \"scattermapbox\"}], \"scatterpolar\": [{\"marker\": {\"colorbar\": {\"outlinewidth\": 0, \"ticks\": \"\"}}, \"type\": \"scatterpolar\"}], \"scatterpolargl\": [{\"marker\": {\"colorbar\": {\"outlinewidth\": 0, \"ticks\": \"\"}}, \"type\": \"scatterpolargl\"}], \"scatterternary\": [{\"marker\": {\"colorbar\": {\"outlinewidth\": 0, \"ticks\": \"\"}}, \"type\": \"scatterternary\"}], \"surface\": [{\"colorbar\": {\"outlinewidth\": 0, \"ticks\": \"\"}, \"colorscale\": [[0.0, \"#0d0887\"], [0.1111111111111111, \"#46039f\"], [0.2222222222222222, \"#7201a8\"], [0.3333333333333333, \"#9c179e\"], [0.4444444444444444, \"#bd3786\"], [0.5555555555555556, \"#d8576b\"], [0.6666666666666666, \"#ed7953\"], [0.7777777777777778, \"#fb9f3a\"], [0.8888888888888888, \"#fdca26\"], [1.0, \"#f0f921\"]], \"type\": \"surface\"}], \"table\": [{\"cells\": {\"fill\": {\"color\": \"#EBF0F8\"}, \"line\": {\"color\": \"white\"}}, \"header\": {\"fill\": {\"color\": \"#C8D4E3\"}, \"line\": {\"color\": \"white\"}}, \"type\": \"table\"}]}, \"layout\": {\"annotationdefaults\": {\"arrowcolor\": \"#2a3f5f\", \"arrowhead\": 0, \"arrowwidth\": 1}, \"coloraxis\": {\"colorbar\": {\"outlinewidth\": 0, \"ticks\": \"\"}}, \"colorscale\": {\"diverging\": [[0, \"#8e0152\"], [0.1, \"#c51b7d\"], [0.2, \"#de77ae\"], [0.3, \"#f1b6da\"], [0.4, \"#fde0ef\"], [0.5, \"#f7f7f7\"], [0.6, \"#e6f5d0\"], [0.7, \"#b8e186\"], [0.8, \"#7fbc41\"], [0.9, \"#4d9221\"], [1, \"#276419\"]], \"sequential\": [[0.0, \"#0d0887\"], [0.1111111111111111, \"#46039f\"], [0.2222222222222222, \"#7201a8\"], [0.3333333333333333, \"#9c179e\"], [0.4444444444444444, \"#bd3786\"], [0.5555555555555556, \"#d8576b\"], [0.6666666666666666, \"#ed7953\"], [0.7777777777777778, \"#fb9f3a\"], [0.8888888888888888, \"#fdca26\"], [1.0, \"#f0f921\"]], \"sequentialminus\": [[0.0, \"#0d0887\"], [0.1111111111111111, \"#46039f\"], [0.2222222222222222, \"#7201a8\"], [0.3333333333333333, \"#9c179e\"], [0.4444444444444444, \"#bd3786\"], [0.5555555555555556, \"#d8576b\"], [0.6666666666666666, \"#ed7953\"], [0.7777777777777778, \"#fb9f3a\"], [0.8888888888888888, \"#fdca26\"], [1.0, \"#f0f921\"]]}, \"colorway\": [\"#636efa\", \"#EF553B\", \"#00cc96\", \"#ab63fa\", \"#FFA15A\", \"#19d3f3\", \"#FF6692\", \"#B6E880\", \"#FF97FF\", \"#FECB52\"], \"font\": {\"color\": \"#2a3f5f\"}, \"geo\": {\"bgcolor\": \"white\", \"lakecolor\": \"white\", \"landcolor\": \"#E5ECF6\", \"showlakes\": true, \"showland\": true, \"subunitcolor\": \"white\"}, \"hoverlabel\": {\"align\": \"left\"}, \"hovermode\": \"closest\", \"mapbox\": {\"style\": \"light\"}, \"paper_bgcolor\": \"white\", \"plot_bgcolor\": \"#E5ECF6\", \"polar\": {\"angularaxis\": {\"gridcolor\": \"white\", \"linecolor\": \"white\", \"ticks\": \"\"}, \"bgcolor\": \"#E5ECF6\", \"radialaxis\": {\"gridcolor\": \"white\", \"linecolor\": \"white\", \"ticks\": \"\"}}, \"scene\": {\"xaxis\": {\"backgroundcolor\": \"#E5ECF6\", \"gridcolor\": \"white\", \"gridwidth\": 2, \"linecolor\": \"white\", \"showbackground\": true, \"ticks\": \"\", \"zerolinecolor\": \"white\"}, \"yaxis\": {\"backgroundcolor\": \"#E5ECF6\", \"gridcolor\": \"white\", \"gridwidth\": 2, \"linecolor\": \"white\", \"showbackground\": true, \"ticks\": \"\", \"zerolinecolor\": \"white\"}, \"zaxis\": {\"backgroundcolor\": \"#E5ECF6\", \"gridcolor\": \"white\", \"gridwidth\": 2, \"linecolor\": \"white\", \"showbackground\": true, \"ticks\": \"\", \"zerolinecolor\": \"white\"}}, \"shapedefaults\": {\"line\": {\"color\": \"#2a3f5f\"}}, \"ternary\": {\"aaxis\": {\"gridcolor\": \"white\", \"linecolor\": \"white\", \"ticks\": \"\"}, \"baxis\": {\"gridcolor\": \"white\", \"linecolor\": \"white\", \"ticks\": \"\"}, \"bgcolor\": \"#E5ECF6\", \"caxis\": {\"gridcolor\": \"white\", \"linecolor\": \"white\", \"ticks\": \"\"}}, \"title\": {\"x\": 0.05}, \"xaxis\": {\"automargin\": true, \"gridcolor\": \"white\", \"linecolor\": \"white\", \"ticks\": \"\", \"title\": {\"standoff\": 15}, \"zerolinecolor\": \"white\", \"zerolinewidth\": 2}, \"yaxis\": {\"automargin\": true, \"gridcolor\": \"white\", \"linecolor\": \"white\", \"ticks\": \"\", \"title\": {\"standoff\": 15}, \"zerolinecolor\": \"white\", \"zerolinewidth\": 2}}}},\n",
       "                        {\"responsive\": true}\n",
       "                    ).then(function(){\n",
       "                            \n",
       "var gd = document.getElementById('7485e700-28fb-4d83-9b2d-accae3613a27');\n",
       "var x = new MutationObserver(function (mutations, observer) {{\n",
       "        var display = window.getComputedStyle(gd).display;\n",
       "        if (!display || display === 'none') {{\n",
       "            console.log([gd, 'removed!']);\n",
       "            Plotly.purge(gd);\n",
       "            observer.disconnect();\n",
       "        }}\n",
       "}});\n",
       "\n",
       "// Listen for the removal of the full notebook cells\n",
       "var notebookContainer = gd.closest('#notebook-container');\n",
       "if (notebookContainer) {{\n",
       "    x.observe(notebookContainer, {childList: true});\n",
       "}}\n",
       "\n",
       "// Listen for the clearing of the current output cell\n",
       "var outputEl = gd.closest('.output');\n",
       "if (outputEl) {{\n",
       "    x.observe(outputEl, {childList: true});\n",
       "}}\n",
       "\n",
       "                        })\n",
       "                };\n",
       "                });\n",
       "            </script>\n",
       "        </div>"
      ]
     },
     "metadata": {},
     "output_type": "display_data"
    }
   ],
   "source": [
    "#Frankfurter Kuenstler*innen und ihre Sterbeorte (Datenquelle: wikidata.org, 2019_11_27)\n",
    "import requests\n",
    "import plotly.express as px\n",
    "import pandas\n",
    "query = \"\"\"\n",
    "SELECT DISTINCT ?item ?itemLabel ?place ?placeLabel ?coord\n",
    "WHERE\n",
    "{ \n",
    "  ?item wdt:P31 wd:Q5; \n",
    "        wdt:P19 wd:Q1794; \n",
    "        wdt:P106 wd:Q1028181; \n",
    "        wdt:P20 ?place.\n",
    "  ?place wdt:P625 ?coord.\n",
    "  SERVICE wikibase:label { bd:serviceParam wikibase:language \"[AUTO_LANGUAGE],en\" }\n",
    "}\n",
    "\"\"\"\n",
    "url = 'https://query.wikidata.org/sparql'\n",
    "query_format = 'json'\n",
    "data = requests.get(url, params={'query': query, 'format': query_format}).json()\n",
    "data['results']['bindings']\n",
    "items = data['results']['bindings']\n",
    "for item in items:\n",
    "    print(item)\n",
    "    personen = []\n",
    "items = data['results']['bindings']\n",
    "for item in items:\n",
    "    personen.append({'itemLabel': item['itemLabel']['value'],\n",
    "                     'placeLabel': item['placeLabel']['value'],\n",
    "                     'coord': item['coord']['value']})\n",
    "\n",
    "df = pandas.DataFrame(personen)\n",
    "df[['lon','lat']] = df['coord'].str.replace('Point|\\(|\\)','').str.split(expand=True)\n",
    "px.scatter_geo(df, lon='lon', lat='lat', hover_name='placeLabel')"
   ]
  },
  {
   "cell_type": "code",
   "execution_count": null,
   "metadata": {},
   "outputs": [],
   "source": []
  }
 ],
 "metadata": {
  "kernelspec": {
   "display_name": "Python 3",
   "language": "python",
   "name": "python3"
  },
  "language_info": {
   "codemirror_mode": {
    "name": "ipython",
    "version": 3
   },
   "file_extension": ".py",
   "mimetype": "text/x-python",
   "name": "python",
   "nbconvert_exporter": "python",
   "pygments_lexer": "ipython3",
   "version": "3.7.4"
  },
  "toc": {
   "base_numbering": 1,
   "nav_menu": {},
   "number_sections": false,
   "sideBar": false,
   "skip_h1_title": false,
   "title_cell": "Table of Contents",
   "title_sidebar": "Contents",
   "toc_cell": false,
   "toc_position": {},
   "toc_section_display": false,
   "toc_window_display": false
  }
 },
 "nbformat": 4,
 "nbformat_minor": 2
}
